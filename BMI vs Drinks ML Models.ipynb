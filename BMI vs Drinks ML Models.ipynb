{
 "cells": [
  {
   "cell_type": "code",
   "execution_count": 2,
   "id": "12e149c2",
   "metadata": {},
   "outputs": [],
   "source": [
    "import pandas as pd\n",
    "from matplotlib import pyplot as plt\n",
    "import statistics\n",
    "import numpy as np\n",
    "import seaborn as sns\n",
    "import statsmodels.formula.api as sm\n",
    "from statsmodels.compat import lzip\n",
    "import statsmodels.stats.api as sms"
   ]
  },
  {
   "cell_type": "code",
   "execution_count": 3,
   "id": "28bb2d9a",
   "metadata": {},
   "outputs": [
    {
     "name": "stderr",
     "output_type": "stream",
     "text": [
      "C:\\Users\\tkste\\anaconda3\\lib\\site-packages\\pandas\\io\\sas\\sas_xport.py:475: PerformanceWarning: DataFrame is highly fragmented.  This is usually the result of calling `frame.insert` many times, which has poor performance.  Consider joining all columns at once using pd.concat(axis=1) instead.  To get a de-fragmented frame, use `newframe = frame.copy()`\n",
      "  df[x] = v\n"
     ]
    }
   ],
   "source": [
    "behav = pd.read_sas(r'C:\\Users\\tkste\\OneDrive\\Documents\\LLCP2019.XPT')"
   ]
  },
  {
   "cell_type": "code",
   "execution_count": 4,
   "id": "49597e2c",
   "metadata": {},
   "outputs": [
    {
     "name": "stdout",
     "output_type": "stream",
     "text": [
      "0    154.0\n",
      "1    108.0\n",
      "2    190.0\n",
      "3    122.0\n",
      "4    110.0\n",
      "5      NaN\n",
      "6    250.0\n",
      "7    240.0\n",
      "8    172.0\n",
      "9     94.0\n",
      "Name: WEIGHT2, dtype: float64\n"
     ]
    }
   ],
   "source": [
    "print(behav['WEIGHT2'].head(10))"
   ]
  },
  {
   "cell_type": "code",
   "execution_count": 5,
   "id": "b7774aab",
   "metadata": {},
   "outputs": [],
   "source": [
    "behav.rename(columns={behav.columns[31]: \"Female\" ,\n",
    "                      behav.columns[88]: \"Avedrnk\",\n",
    "                      behav.columns[274]: \"Age\",\n",
    "                      behav.columns[279]: \"BMI\",\n",
    "                      behav.columns[309]: \"Activ\"}, inplace = True)\n",
    "\n",
    "\n",
    "newbehav = behav[behav[\"Avedrnk\"] < 76]\n",
    "newbehav = newbehav[(newbehav[\"Activ\"] > -1) & (newbehav[\"Activ\"] < 7000)]\n",
    "newbehav = newbehav[(newbehav[\"BMI\"] > 0) & (newbehav[\"BMI\"] < 9999)]\n"
   ]
  },
  {
   "cell_type": "code",
   "execution_count": 6,
   "id": "1d18d342",
   "metadata": {},
   "outputs": [
    {
     "name": "stdout",
     "output_type": "stream",
     "text": [
      "0     NaN\n",
      "1     NaN\n",
      "2     NaN\n",
      "3     NaN\n",
      "4     NaN\n",
      "5     NaN\n",
      "6     1.0\n",
      "7     1.0\n",
      "8     NaN\n",
      "9     NaN\n",
      "10    1.0\n",
      "11    NaN\n",
      "12    NaN\n",
      "13    2.0\n",
      "14    NaN\n",
      "Name: Avedrnk, dtype: float64\n",
      "0     80.0\n",
      "1     70.0\n",
      "2     67.0\n",
      "3     80.0\n",
      "4     80.0\n",
      "5     69.0\n",
      "6     71.0\n",
      "7     72.0\n",
      "8     77.0\n",
      "9     71.0\n",
      "10    70.0\n",
      "11    55.0\n",
      "12    80.0\n",
      "13    76.0\n",
      "14    72.0\n",
      "Name: Age, dtype: float64\n",
      "6     1.0\n",
      "7     1.0\n",
      "10    1.0\n",
      "13    2.0\n",
      "20    1.0\n",
      "22    4.0\n",
      "25    2.0\n",
      "34    2.0\n",
      "37    2.0\n",
      "39    1.0\n",
      "40    2.0\n",
      "45    3.0\n",
      "46    4.0\n",
      "62    1.0\n",
      "63    2.0\n",
      "Name: Avedrnk, dtype: float64\n",
      "6     71.0\n",
      "7     72.0\n",
      "10    70.0\n",
      "13    76.0\n",
      "20    68.0\n",
      "22    68.0\n",
      "25    44.0\n",
      "34    38.0\n",
      "37    70.0\n",
      "39    50.0\n",
      "40    62.0\n",
      "45    53.0\n",
      "46    61.0\n",
      "62    49.0\n",
      "63    78.0\n",
      "Name: Age, dtype: float64\n"
     ]
    }
   ],
   "source": [
    "print(behav['Avedrnk'].head(15))\n",
    "print(behav['Age'].head(15))\n",
    "print(newbehav['Avedrnk'].head(15))\n",
    "print(newbehav['Age'].head(15))"
   ]
  },
  {
   "cell_type": "code",
   "execution_count": 7,
   "id": "12c9df00",
   "metadata": {},
   "outputs": [
    {
     "name": "stdout",
     "output_type": "stream",
     "text": [
      "6     3298.0\n",
      "7     3081.0\n",
      "10    2231.0\n",
      "13    2579.0\n",
      "20    3090.0\n",
      "22    2658.0\n",
      "25    2271.0\n",
      "34    3298.0\n",
      "37    3390.0\n",
      "39    2292.0\n",
      "Name: BMI, dtype: float64\n",
      "6      270.0\n",
      "7      960.0\n",
      "10     468.0\n",
      "13    1920.0\n",
      "20     840.0\n",
      "22     350.0\n",
      "25      60.0\n",
      "34     308.0\n",
      "37     180.0\n",
      "39      92.0\n",
      "Name: Activ, dtype: float64\n"
     ]
    }
   ],
   "source": [
    "print(newbehav['BMI'].head(10))\n",
    "print(newbehav['Activ'].head(10))"
   ]
  },
  {
   "cell_type": "code",
   "execution_count": 8,
   "id": "fc72aae7",
   "metadata": {},
   "outputs": [
    {
     "name": "stdout",
     "output_type": "stream",
     "text": [
      "6     32.98\n",
      "7     30.81\n",
      "10    22.31\n",
      "13    25.79\n",
      "20    30.90\n",
      "22    26.58\n",
      "25    22.71\n",
      "34    32.98\n",
      "37    33.90\n",
      "39    22.92\n",
      "Name: BMI, dtype: float64\n",
      "6      38.57\n",
      "7     137.14\n",
      "10     66.86\n",
      "13    274.29\n",
      "20    120.00\n",
      "22     50.00\n",
      "25      8.57\n",
      "34     44.00\n",
      "37     25.71\n",
      "39     13.14\n",
      "Name: Activ, dtype: float64\n"
     ]
    }
   ],
   "source": [
    "newbehav[\"Activ\"] = newbehav[\"Activ\"]/7\n",
    "newbehav[\"BMI\"] = newbehav[\"BMI\"]/100\n",
    "newbehav[\"Activ\"] = round(newbehav[\"Activ\"], 2)\n",
    "\n",
    "print(newbehav['BMI'].head(10))\n",
    "print(newbehav['Activ'].head(10))"
   ]
  },
  {
   "cell_type": "code",
   "execution_count": 9,
   "id": "539bffc5",
   "metadata": {},
   "outputs": [
    {
     "name": "stdout",
     "output_type": "stream",
     "text": [
      "<class 'pandas.core.series.Series'>\n",
      "<class 'pandas.core.series.Series'>\n",
      "<class 'pandas.core.series.Series'>\n",
      "<class 'pandas.core.series.Series'>\n",
      "<class 'pandas.core.series.Series'>\n"
     ]
    }
   ],
   "source": [
    "print(type(newbehav[\"Female\"]))\n",
    "print(type(newbehav[\"Avedrnk\"]))\n",
    "print(type(newbehav[\"Age\"]))\n",
    "print(type(newbehav[\"Activ\"]))\n",
    "print(type(newbehav[\"BMI\"]))"
   ]
  },
  {
   "cell_type": "code",
   "execution_count": 10,
   "id": "4383609c",
   "metadata": {},
   "outputs": [],
   "source": [
    "newbehav[\"Female\"] = newbehav[\"Female\"].replace(1,0)\n",
    "newbehav[\"Female\"] = newbehav[\"Female\"].replace(2,1)"
   ]
  },
  {
   "cell_type": "code",
   "execution_count": 11,
   "id": "cbf555c8",
   "metadata": {},
   "outputs": [
    {
     "name": "stdout",
     "output_type": "stream",
     "text": [
      "6     0.0\n",
      "7     0.0\n",
      "10    1.0\n",
      "13    0.0\n",
      "20    1.0\n",
      "22    0.0\n",
      "25    1.0\n",
      "34    0.0\n",
      "37    0.0\n",
      "39    1.0\n",
      "Name: Female, dtype: float64\n"
     ]
    }
   ],
   "source": [
    "print(newbehav['Female'].head(10))"
   ]
  },
  {
   "cell_type": "code",
   "execution_count": 12,
   "id": "00df8768",
   "metadata": {},
   "outputs": [
    {
     "name": "stdout",
     "output_type": "stream",
     "text": [
      "    Female  Avedrnk   Age   Activ    BMI\n",
      "6      0.0      1.0  71.0   38.57  32.98\n",
      "7      0.0      1.0  72.0  137.14  30.81\n",
      "10     1.0      1.0  70.0   66.86  22.31\n",
      "13     0.0      2.0  76.0  274.29  25.79\n",
      "20     1.0      1.0  68.0  120.00  30.90\n",
      "22     0.0      4.0  68.0   50.00  26.58\n",
      "25     1.0      2.0  44.0    8.57  22.71\n",
      "34     0.0      2.0  38.0   44.00  32.98\n",
      "37     0.0      2.0  70.0   25.71  33.90\n",
      "39     1.0      1.0  50.0   13.14  22.92\n"
     ]
    }
   ],
   "source": [
    "# Creating a new data set with just these variables\n",
    "subnewbehav = newbehav[[\"Female\",\"Avedrnk\",\"Age\",\"Activ\",\"BMI\"]]\n",
    "print(subnewbehav.head(10))"
   ]
  },
  {
   "cell_type": "code",
   "execution_count": 13,
   "id": "191ecf07",
   "metadata": {},
   "outputs": [
    {
     "data": {
      "text/html": [
       "<div>\n",
       "<style scoped>\n",
       "    .dataframe tbody tr th:only-of-type {\n",
       "        vertical-align: middle;\n",
       "    }\n",
       "\n",
       "    .dataframe tbody tr th {\n",
       "        vertical-align: top;\n",
       "    }\n",
       "\n",
       "    .dataframe thead th {\n",
       "        text-align: right;\n",
       "    }\n",
       "</style>\n",
       "<table border=\"1\" class=\"dataframe\">\n",
       "  <thead>\n",
       "    <tr style=\"text-align: right;\">\n",
       "      <th></th>\n",
       "      <th>Avedrnk</th>\n",
       "      <th>Age</th>\n",
       "      <th>Activ</th>\n",
       "      <th>BMI</th>\n",
       "    </tr>\n",
       "  </thead>\n",
       "  <tbody>\n",
       "    <tr>\n",
       "      <th>count</th>\n",
       "      <td>144455.000000</td>\n",
       "      <td>144455.000000</td>\n",
       "      <td>144455.000000</td>\n",
       "      <td>144455.000000</td>\n",
       "    </tr>\n",
       "    <tr>\n",
       "      <th>mean</th>\n",
       "      <td>2.211194</td>\n",
       "      <td>52.691059</td>\n",
       "      <td>74.555711</td>\n",
       "      <td>27.536042</td>\n",
       "    </tr>\n",
       "    <tr>\n",
       "      <th>std</th>\n",
       "      <td>2.279203</td>\n",
       "      <td>17.451755</td>\n",
       "      <td>104.393932</td>\n",
       "      <td>5.596558</td>\n",
       "    </tr>\n",
       "    <tr>\n",
       "      <th>min</th>\n",
       "      <td>1.000000</td>\n",
       "      <td>18.000000</td>\n",
       "      <td>0.000000</td>\n",
       "      <td>12.050000</td>\n",
       "    </tr>\n",
       "    <tr>\n",
       "      <th>25%</th>\n",
       "      <td>1.000000</td>\n",
       "      <td>38.000000</td>\n",
       "      <td>17.860000</td>\n",
       "      <td>23.710000</td>\n",
       "    </tr>\n",
       "    <tr>\n",
       "      <th>50%</th>\n",
       "      <td>2.000000</td>\n",
       "      <td>55.000000</td>\n",
       "      <td>40.570000</td>\n",
       "      <td>26.610000</td>\n",
       "    </tr>\n",
       "    <tr>\n",
       "      <th>75%</th>\n",
       "      <td>2.000000</td>\n",
       "      <td>67.000000</td>\n",
       "      <td>85.710000</td>\n",
       "      <td>30.300000</td>\n",
       "    </tr>\n",
       "    <tr>\n",
       "      <th>max</th>\n",
       "      <td>72.000000</td>\n",
       "      <td>80.000000</td>\n",
       "      <td>998.570000</td>\n",
       "      <td>98.700000</td>\n",
       "    </tr>\n",
       "  </tbody>\n",
       "</table>\n",
       "</div>"
      ],
      "text/plain": [
       "             Avedrnk            Age          Activ            BMI\n",
       "count  144455.000000  144455.000000  144455.000000  144455.000000\n",
       "mean        2.211194      52.691059      74.555711      27.536042\n",
       "std         2.279203      17.451755     104.393932       5.596558\n",
       "min         1.000000      18.000000       0.000000      12.050000\n",
       "25%         1.000000      38.000000      17.860000      23.710000\n",
       "50%         2.000000      55.000000      40.570000      26.610000\n",
       "75%         2.000000      67.000000      85.710000      30.300000\n",
       "max        72.000000      80.000000     998.570000      98.700000"
      ]
     },
     "execution_count": 13,
     "metadata": {},
     "output_type": "execute_result"
    }
   ],
   "source": [
    "subnewbehav[[\"Avedrnk\",\"Age\",\"Activ\",\"BMI\"]].describe()"
   ]
  },
  {
   "cell_type": "code",
   "execution_count": 14,
   "id": "84b0ddf7",
   "metadata": {},
   "outputs": [
    {
     "data": {
      "text/html": [
       "<div>\n",
       "<style scoped>\n",
       "    .dataframe tbody tr th:only-of-type {\n",
       "        vertical-align: middle;\n",
       "    }\n",
       "\n",
       "    .dataframe tbody tr th {\n",
       "        vertical-align: top;\n",
       "    }\n",
       "\n",
       "    .dataframe thead th {\n",
       "        text-align: right;\n",
       "    }\n",
       "</style>\n",
       "<table border=\"1\" class=\"dataframe\">\n",
       "  <thead>\n",
       "    <tr style=\"text-align: right;\">\n",
       "      <th></th>\n",
       "      <th>Female</th>\n",
       "      <th>0.0</th>\n",
       "      <th>1.0</th>\n",
       "    </tr>\n",
       "  </thead>\n",
       "  <tbody>\n",
       "    <tr>\n",
       "      <th rowspan=\"8\" valign=\"top\">Avedrnk</th>\n",
       "      <th>count</th>\n",
       "      <td>75048.00</td>\n",
       "      <td>69407.00</td>\n",
       "    </tr>\n",
       "    <tr>\n",
       "      <th>mean</th>\n",
       "      <td>2.57</td>\n",
       "      <td>1.82</td>\n",
       "    </tr>\n",
       "    <tr>\n",
       "      <th>std</th>\n",
       "      <td>2.64</td>\n",
       "      <td>1.72</td>\n",
       "    </tr>\n",
       "    <tr>\n",
       "      <th>min</th>\n",
       "      <td>1.00</td>\n",
       "      <td>1.00</td>\n",
       "    </tr>\n",
       "    <tr>\n",
       "      <th>25%</th>\n",
       "      <td>1.00</td>\n",
       "      <td>1.00</td>\n",
       "    </tr>\n",
       "    <tr>\n",
       "      <th>50%</th>\n",
       "      <td>2.00</td>\n",
       "      <td>1.00</td>\n",
       "    </tr>\n",
       "    <tr>\n",
       "      <th>75%</th>\n",
       "      <td>3.00</td>\n",
       "      <td>2.00</td>\n",
       "    </tr>\n",
       "    <tr>\n",
       "      <th>max</th>\n",
       "      <td>72.00</td>\n",
       "      <td>60.00</td>\n",
       "    </tr>\n",
       "    <tr>\n",
       "      <th rowspan=\"8\" valign=\"top\">Age</th>\n",
       "      <th>count</th>\n",
       "      <td>75048.00</td>\n",
       "      <td>69407.00</td>\n",
       "    </tr>\n",
       "    <tr>\n",
       "      <th>mean</th>\n",
       "      <td>52.21</td>\n",
       "      <td>53.21</td>\n",
       "    </tr>\n",
       "    <tr>\n",
       "      <th>std</th>\n",
       "      <td>17.74</td>\n",
       "      <td>17.12</td>\n",
       "    </tr>\n",
       "    <tr>\n",
       "      <th>min</th>\n",
       "      <td>18.00</td>\n",
       "      <td>18.00</td>\n",
       "    </tr>\n",
       "    <tr>\n",
       "      <th>25%</th>\n",
       "      <td>37.00</td>\n",
       "      <td>39.00</td>\n",
       "    </tr>\n",
       "    <tr>\n",
       "      <th>50%</th>\n",
       "      <td>55.00</td>\n",
       "      <td>55.00</td>\n",
       "    </tr>\n",
       "    <tr>\n",
       "      <th>75%</th>\n",
       "      <td>67.00</td>\n",
       "      <td>67.00</td>\n",
       "    </tr>\n",
       "    <tr>\n",
       "      <th>max</th>\n",
       "      <td>80.00</td>\n",
       "      <td>80.00</td>\n",
       "    </tr>\n",
       "    <tr>\n",
       "      <th rowspan=\"8\" valign=\"top\">Activ</th>\n",
       "      <th>count</th>\n",
       "      <td>75048.00</td>\n",
       "      <td>69407.00</td>\n",
       "    </tr>\n",
       "    <tr>\n",
       "      <th>mean</th>\n",
       "      <td>79.76</td>\n",
       "      <td>68.93</td>\n",
       "    </tr>\n",
       "    <tr>\n",
       "      <th>std</th>\n",
       "      <td>111.00</td>\n",
       "      <td>96.43</td>\n",
       "    </tr>\n",
       "    <tr>\n",
       "      <th>min</th>\n",
       "      <td>0.00</td>\n",
       "      <td>0.00</td>\n",
       "    </tr>\n",
       "    <tr>\n",
       "      <th>25%</th>\n",
       "      <td>18.71</td>\n",
       "      <td>17.14</td>\n",
       "    </tr>\n",
       "    <tr>\n",
       "      <th>50%</th>\n",
       "      <td>42.86</td>\n",
       "      <td>38.57</td>\n",
       "    </tr>\n",
       "    <tr>\n",
       "      <th>75%</th>\n",
       "      <td>90.86</td>\n",
       "      <td>77.14</td>\n",
       "    </tr>\n",
       "    <tr>\n",
       "      <th>max</th>\n",
       "      <td>998.57</td>\n",
       "      <td>994.29</td>\n",
       "    </tr>\n",
       "    <tr>\n",
       "      <th rowspan=\"8\" valign=\"top\">BMI</th>\n",
       "      <th>count</th>\n",
       "      <td>75048.00</td>\n",
       "      <td>69407.00</td>\n",
       "    </tr>\n",
       "    <tr>\n",
       "      <th>mean</th>\n",
       "      <td>28.04</td>\n",
       "      <td>26.99</td>\n",
       "    </tr>\n",
       "    <tr>\n",
       "      <th>std</th>\n",
       "      <td>5.15</td>\n",
       "      <td>5.99</td>\n",
       "    </tr>\n",
       "    <tr>\n",
       "      <th>min</th>\n",
       "      <td>12.16</td>\n",
       "      <td>12.05</td>\n",
       "    </tr>\n",
       "    <tr>\n",
       "      <th>25%</th>\n",
       "      <td>24.41</td>\n",
       "      <td>22.80</td>\n",
       "    </tr>\n",
       "    <tr>\n",
       "      <th>50%</th>\n",
       "      <td>27.26</td>\n",
       "      <td>25.79</td>\n",
       "    </tr>\n",
       "    <tr>\n",
       "      <th>75%</th>\n",
       "      <td>30.54</td>\n",
       "      <td>29.95</td>\n",
       "    </tr>\n",
       "    <tr>\n",
       "      <th>max</th>\n",
       "      <td>92.22</td>\n",
       "      <td>98.70</td>\n",
       "    </tr>\n",
       "  </tbody>\n",
       "</table>\n",
       "</div>"
      ],
      "text/plain": [
       "Female              0.0       1.0\n",
       "Avedrnk count  75048.00  69407.00\n",
       "        mean       2.57      1.82\n",
       "        std        2.64      1.72\n",
       "        min        1.00      1.00\n",
       "        25%        1.00      1.00\n",
       "        50%        2.00      1.00\n",
       "        75%        3.00      2.00\n",
       "        max       72.00     60.00\n",
       "Age     count  75048.00  69407.00\n",
       "        mean      52.21     53.21\n",
       "        std       17.74     17.12\n",
       "        min       18.00     18.00\n",
       "        25%       37.00     39.00\n",
       "        50%       55.00     55.00\n",
       "        75%       67.00     67.00\n",
       "        max       80.00     80.00\n",
       "Activ   count  75048.00  69407.00\n",
       "        mean      79.76     68.93\n",
       "        std      111.00     96.43\n",
       "        min        0.00      0.00\n",
       "        25%       18.71     17.14\n",
       "        50%       42.86     38.57\n",
       "        75%       90.86     77.14\n",
       "        max      998.57    994.29\n",
       "BMI     count  75048.00  69407.00\n",
       "        mean      28.04     26.99\n",
       "        std        5.15      5.99\n",
       "        min       12.16     12.05\n",
       "        25%       24.41     22.80\n",
       "        50%       27.26     25.79\n",
       "        75%       30.54     29.95\n",
       "        max       92.22     98.70"
      ]
     },
     "execution_count": 14,
     "metadata": {},
     "output_type": "execute_result"
    }
   ],
   "source": [
    "# If I only wanted specific columns then I would do subnewbehav[[\"variable1\",\"variable2\"]].groupby(\"Female\").describe().T\n",
    "round(subnewbehav.groupby(\"Female\").describe(), 2).T"
   ]
  },
  {
   "cell_type": "code",
   "execution_count": 15,
   "id": "60429305",
   "metadata": {},
   "outputs": [
    {
     "name": "stdout",
     "output_type": "stream",
     "text": [
      "    Gender  Avedrnk   Age   Activ    BMI\n",
      "6      0.0      1.0  71.0   38.57  32.98\n",
      "7      0.0      1.0  72.0  137.14  30.81\n",
      "10     1.0      1.0  70.0   66.86  22.31\n",
      "13     0.0      2.0  76.0  274.29  25.79\n",
      "20     1.0      1.0  68.0  120.00  30.90\n",
      "22     0.0      4.0  68.0   50.00  26.58\n",
      "25     1.0      2.0  44.0    8.57  22.71\n",
      "34     0.0      2.0  38.0   44.00  32.98\n",
      "37     0.0      2.0  70.0   25.71  33.90\n",
      "39     1.0      1.0  50.0   13.14  22.92\n",
      "    Gender  Avedrnk   Age   Activ    BMI\n",
      "6     Male      1.0  71.0   38.57  32.98\n",
      "7     Male      1.0  72.0  137.14  30.81\n",
      "10  Female      1.0  70.0   66.86  22.31\n",
      "13    Male      2.0  76.0  274.29  25.79\n",
      "20  Female      1.0  68.0  120.00  30.90\n",
      "22    Male      4.0  68.0   50.00  26.58\n",
      "25  Female      2.0  44.0    8.57  22.71\n",
      "34    Male      2.0  38.0   44.00  32.98\n",
      "37    Male      2.0  70.0   25.71  33.90\n",
      "39  Female      1.0  50.0   13.14  22.92\n"
     ]
    },
    {
     "name": "stderr",
     "output_type": "stream",
     "text": [
      "C:\\Users\\tkste\\anaconda3\\lib\\site-packages\\pandas\\core\\frame.py:5039: SettingWithCopyWarning: \n",
      "A value is trying to be set on a copy of a slice from a DataFrame\n",
      "\n",
      "See the caveats in the documentation: https://pandas.pydata.org/pandas-docs/stable/user_guide/indexing.html#returning-a-view-versus-a-copy\n",
      "  return super().rename(\n",
      "C:\\Users\\tkste\\AppData\\Local\\Temp/ipykernel_11952/3903042883.py:8: SettingWithCopyWarning: \n",
      "A value is trying to be set on a copy of a slice from a DataFrame.\n",
      "Try using .loc[row_indexer,col_indexer] = value instead\n",
      "\n",
      "See the caveats in the documentation: https://pandas.pydata.org/pandas-docs/stable/user_guide/indexing.html#returning-a-view-versus-a-copy\n",
      "  subnewbehav2[\"Gender\"] = subnewbehav2[\"Gender\"].replace(0,\"Male\")\n",
      "C:\\Users\\tkste\\AppData\\Local\\Temp/ipykernel_11952/3903042883.py:9: SettingWithCopyWarning: \n",
      "A value is trying to be set on a copy of a slice from a DataFrame.\n",
      "Try using .loc[row_indexer,col_indexer] = value instead\n",
      "\n",
      "See the caveats in the documentation: https://pandas.pydata.org/pandas-docs/stable/user_guide/indexing.html#returning-a-view-versus-a-copy\n",
      "  subnewbehav2[\"Gender\"] = subnewbehav2[\"Gender\"].replace(1,\"Female\")\n"
     ]
    }
   ],
   "source": [
    "# Here, zero is male and 1 is female\n",
    "# We created a new data frame and then renamed the column Female and changed 0 to Male and 1 to Female\n",
    "# This way, we have better column titles than the ones in the previous table which are 0 and 1\n",
    "subnewbehav2 = subnewbehav\n",
    "subnewbehav2.rename(columns = {subnewbehav2.columns[0]: \"Gender\"}, inplace = True)\n",
    "print(subnewbehav2.head(10))\n",
    "\n",
    "subnewbehav2[\"Gender\"] = subnewbehav2[\"Gender\"].replace(0,\"Male\")\n",
    "subnewbehav2[\"Gender\"] = subnewbehav2[\"Gender\"].replace(1,\"Female\")\n",
    "print(subnewbehav2.head(10))"
   ]
  },
  {
   "cell_type": "code",
   "execution_count": 16,
   "id": "47003d06",
   "metadata": {},
   "outputs": [
    {
     "data": {
      "text/html": [
       "<div>\n",
       "<style scoped>\n",
       "    .dataframe tbody tr th:only-of-type {\n",
       "        vertical-align: middle;\n",
       "    }\n",
       "\n",
       "    .dataframe tbody tr th {\n",
       "        vertical-align: top;\n",
       "    }\n",
       "\n",
       "    .dataframe thead th {\n",
       "        text-align: right;\n",
       "    }\n",
       "</style>\n",
       "<table border=\"1\" class=\"dataframe\">\n",
       "  <thead>\n",
       "    <tr style=\"text-align: right;\">\n",
       "      <th></th>\n",
       "      <th>Gender</th>\n",
       "      <th>Female</th>\n",
       "      <th>Male</th>\n",
       "    </tr>\n",
       "  </thead>\n",
       "  <tbody>\n",
       "    <tr>\n",
       "      <th rowspan=\"8\" valign=\"top\">Avedrnk</th>\n",
       "      <th>count</th>\n",
       "      <td>69407.00</td>\n",
       "      <td>75048.00</td>\n",
       "    </tr>\n",
       "    <tr>\n",
       "      <th>mean</th>\n",
       "      <td>1.82</td>\n",
       "      <td>2.57</td>\n",
       "    </tr>\n",
       "    <tr>\n",
       "      <th>std</th>\n",
       "      <td>1.72</td>\n",
       "      <td>2.64</td>\n",
       "    </tr>\n",
       "    <tr>\n",
       "      <th>min</th>\n",
       "      <td>1.00</td>\n",
       "      <td>1.00</td>\n",
       "    </tr>\n",
       "    <tr>\n",
       "      <th>25%</th>\n",
       "      <td>1.00</td>\n",
       "      <td>1.00</td>\n",
       "    </tr>\n",
       "    <tr>\n",
       "      <th>50%</th>\n",
       "      <td>1.00</td>\n",
       "      <td>2.00</td>\n",
       "    </tr>\n",
       "    <tr>\n",
       "      <th>75%</th>\n",
       "      <td>2.00</td>\n",
       "      <td>3.00</td>\n",
       "    </tr>\n",
       "    <tr>\n",
       "      <th>max</th>\n",
       "      <td>60.00</td>\n",
       "      <td>72.00</td>\n",
       "    </tr>\n",
       "    <tr>\n",
       "      <th rowspan=\"8\" valign=\"top\">Age</th>\n",
       "      <th>count</th>\n",
       "      <td>69407.00</td>\n",
       "      <td>75048.00</td>\n",
       "    </tr>\n",
       "    <tr>\n",
       "      <th>mean</th>\n",
       "      <td>53.21</td>\n",
       "      <td>52.21</td>\n",
       "    </tr>\n",
       "    <tr>\n",
       "      <th>std</th>\n",
       "      <td>17.12</td>\n",
       "      <td>17.74</td>\n",
       "    </tr>\n",
       "    <tr>\n",
       "      <th>min</th>\n",
       "      <td>18.00</td>\n",
       "      <td>18.00</td>\n",
       "    </tr>\n",
       "    <tr>\n",
       "      <th>25%</th>\n",
       "      <td>39.00</td>\n",
       "      <td>37.00</td>\n",
       "    </tr>\n",
       "    <tr>\n",
       "      <th>50%</th>\n",
       "      <td>55.00</td>\n",
       "      <td>55.00</td>\n",
       "    </tr>\n",
       "    <tr>\n",
       "      <th>75%</th>\n",
       "      <td>67.00</td>\n",
       "      <td>67.00</td>\n",
       "    </tr>\n",
       "    <tr>\n",
       "      <th>max</th>\n",
       "      <td>80.00</td>\n",
       "      <td>80.00</td>\n",
       "    </tr>\n",
       "    <tr>\n",
       "      <th rowspan=\"8\" valign=\"top\">Activ</th>\n",
       "      <th>count</th>\n",
       "      <td>69407.00</td>\n",
       "      <td>75048.00</td>\n",
       "    </tr>\n",
       "    <tr>\n",
       "      <th>mean</th>\n",
       "      <td>68.93</td>\n",
       "      <td>79.76</td>\n",
       "    </tr>\n",
       "    <tr>\n",
       "      <th>std</th>\n",
       "      <td>96.43</td>\n",
       "      <td>111.00</td>\n",
       "    </tr>\n",
       "    <tr>\n",
       "      <th>min</th>\n",
       "      <td>0.00</td>\n",
       "      <td>0.00</td>\n",
       "    </tr>\n",
       "    <tr>\n",
       "      <th>25%</th>\n",
       "      <td>17.14</td>\n",
       "      <td>18.71</td>\n",
       "    </tr>\n",
       "    <tr>\n",
       "      <th>50%</th>\n",
       "      <td>38.57</td>\n",
       "      <td>42.86</td>\n",
       "    </tr>\n",
       "    <tr>\n",
       "      <th>75%</th>\n",
       "      <td>77.14</td>\n",
       "      <td>90.86</td>\n",
       "    </tr>\n",
       "    <tr>\n",
       "      <th>max</th>\n",
       "      <td>994.29</td>\n",
       "      <td>998.57</td>\n",
       "    </tr>\n",
       "    <tr>\n",
       "      <th rowspan=\"8\" valign=\"top\">BMI</th>\n",
       "      <th>count</th>\n",
       "      <td>69407.00</td>\n",
       "      <td>75048.00</td>\n",
       "    </tr>\n",
       "    <tr>\n",
       "      <th>mean</th>\n",
       "      <td>26.99</td>\n",
       "      <td>28.04</td>\n",
       "    </tr>\n",
       "    <tr>\n",
       "      <th>std</th>\n",
       "      <td>5.99</td>\n",
       "      <td>5.15</td>\n",
       "    </tr>\n",
       "    <tr>\n",
       "      <th>min</th>\n",
       "      <td>12.05</td>\n",
       "      <td>12.16</td>\n",
       "    </tr>\n",
       "    <tr>\n",
       "      <th>25%</th>\n",
       "      <td>22.80</td>\n",
       "      <td>24.41</td>\n",
       "    </tr>\n",
       "    <tr>\n",
       "      <th>50%</th>\n",
       "      <td>25.79</td>\n",
       "      <td>27.26</td>\n",
       "    </tr>\n",
       "    <tr>\n",
       "      <th>75%</th>\n",
       "      <td>29.95</td>\n",
       "      <td>30.54</td>\n",
       "    </tr>\n",
       "    <tr>\n",
       "      <th>max</th>\n",
       "      <td>98.70</td>\n",
       "      <td>92.22</td>\n",
       "    </tr>\n",
       "  </tbody>\n",
       "</table>\n",
       "</div>"
      ],
      "text/plain": [
       "Gender           Female      Male\n",
       "Avedrnk count  69407.00  75048.00\n",
       "        mean       1.82      2.57\n",
       "        std        1.72      2.64\n",
       "        min        1.00      1.00\n",
       "        25%        1.00      1.00\n",
       "        50%        1.00      2.00\n",
       "        75%        2.00      3.00\n",
       "        max       60.00     72.00\n",
       "Age     count  69407.00  75048.00\n",
       "        mean      53.21     52.21\n",
       "        std       17.12     17.74\n",
       "        min       18.00     18.00\n",
       "        25%       39.00     37.00\n",
       "        50%       55.00     55.00\n",
       "        75%       67.00     67.00\n",
       "        max       80.00     80.00\n",
       "Activ   count  69407.00  75048.00\n",
       "        mean      68.93     79.76\n",
       "        std       96.43    111.00\n",
       "        min        0.00      0.00\n",
       "        25%       17.14     18.71\n",
       "        50%       38.57     42.86\n",
       "        75%       77.14     90.86\n",
       "        max      994.29    998.57\n",
       "BMI     count  69407.00  75048.00\n",
       "        mean      26.99     28.04\n",
       "        std        5.99      5.15\n",
       "        min       12.05     12.16\n",
       "        25%       22.80     24.41\n",
       "        50%       25.79     27.26\n",
       "        75%       29.95     30.54\n",
       "        max       98.70     92.22"
      ]
     },
     "execution_count": 16,
     "metadata": {},
     "output_type": "execute_result"
    }
   ],
   "source": [
    "round(subnewbehav2.groupby(\"Gender\").describe(), 2).T"
   ]
  },
  {
   "cell_type": "code",
   "execution_count": 17,
   "id": "cd587356",
   "metadata": {},
   "outputs": [
    {
     "data": {
      "text/plain": [
       "Text(0, 0.5, 'Count of BMI')"
      ]
     },
     "execution_count": 17,
     "metadata": {},
     "output_type": "execute_result"
    },
    {
     "data": {
      "image/png": "[encoded data removed]",
      "text/plain": [
       "<Figure size 432x288 with 1 Axes>"
      ]
     },
     "metadata": {
      "needs_background": "light"
     },
     "output_type": "display_data"
    }
   ],
   "source": [
    "plt.hist(subnewbehav[\"BMI\"], color = 'dodgerblue', edgecolor = 'black',\n",
    "         bins = int(25))\n",
    "\n",
    "plt.title('BMI Distribution')\n",
    "plt.xlabel('BMI')\n",
    "plt.ylabel('Count of BMI')"
   ]
  },
  {
   "cell_type": "code",
   "execution_count": 18,
   "id": "3b91c392",
   "metadata": {},
   "outputs": [
    {
     "data": {
      "text/plain": [
       "Text(0, 0.5, 'Count of Average Drinks')"
      ]
     },
     "execution_count": 18,
     "metadata": {},
     "output_type": "execute_result"
    },
    {
     "data": {
      "image/png": "[encoded data removed]",
      "text/plain": [
       "<Figure size 432x288 with 1 Axes>"
      ]
     },
     "metadata": {
      "needs_background": "light"
     },
     "output_type": "display_data"
    }
   ],
   "source": [
    "plt.hist(subnewbehav[\"Avedrnk\"], color = 'dodgerblue', edgecolor = 'black',\n",
    "         bins = int(45))\n",
    "\n",
    "plt.title('Average Drinks a Day Distribution')\n",
    "plt.xlabel('Average Drinks a Day')\n",
    "plt.ylabel('Count of Average Drinks')"
   ]
  },
  {
   "cell_type": "code",
   "execution_count": 19,
   "id": "8b346cbe",
   "metadata": {},
   "outputs": [
    {
     "data": {
      "text/plain": [
       "Text(0, 0.5, 'Count of Average Drinks')"
      ]
     },
     "execution_count": 19,
     "metadata": {},
     "output_type": "execute_result"
    },
    {
     "data": {
      "image/png": "[encoded data removed]",
      "text/plain": [
       "<Figure size 432x288 with 1 Axes>"
      ]
     },
     "metadata": {
      "needs_background": "light"
     },
     "output_type": "display_data"
    }
   ],
   "source": [
    "# Here we are limiting the x-axis to show the variation in average drinks a bit more clearly\n",
    "# However, this is excluding the values that are present at the 25 and above mark so you should never just include this histogram\n",
    "# This is more just to show how to use the plt.xlim function\n",
    "\n",
    "plt.hist(subnewbehav[\"Avedrnk\"], color = 'dodgerblue', edgecolor = 'black',\n",
    "         bins = int(50))\n",
    "\n",
    "plt.xlim(0,25)\n",
    "plt.title('Average Drinks a Day Distribution')\n",
    "plt.xlabel('Average Drinks a Day')\n",
    "plt.ylabel('Count of Average Drinks')"
   ]
  },
  {
   "cell_type": "code",
   "execution_count": 20,
   "id": "d1dc36de",
   "metadata": {},
   "outputs": [
    {
     "data": {
      "text/plain": [
       "Text(0, 0.5, 'Count of Age')"
      ]
     },
     "execution_count": 20,
     "metadata": {},
     "output_type": "execute_result"
    },
    {
     "data": {
      "image/png": "[encoded data removed]",
      "text/plain": [
       "<Figure size 432x288 with 1 Axes>"
      ]
     },
     "metadata": {
      "needs_background": "light"
     },
     "output_type": "display_data"
    }
   ],
   "source": [
    "plt.hist(subnewbehav[\"Age\"], color = 'dodgerblue', edgecolor = 'black',\n",
    "         bins = int(35))\n",
    "\n",
    "plt.title('Age Distribution')\n",
    "plt.xlabel('Age')\n",
    "plt.ylabel('Count of Age')"
   ]
  },
  {
   "cell_type": "code",
   "execution_count": 21,
   "id": "f13b15a8",
   "metadata": {},
   "outputs": [
    {
     "data": {
      "text/plain": [
       "Text(0, 0.5, 'Count of Activity')"
      ]
     },
     "execution_count": 21,
     "metadata": {},
     "output_type": "execute_result"
    },
    {
     "data": {
      "image/png": "[encoded data removed]",
      "text/plain": [
       "<Figure size 432x288 with 1 Axes>"
      ]
     },
     "metadata": {
      "needs_background": "light"
     },
     "output_type": "display_data"
    }
   ],
   "source": [
    "plt.hist(subnewbehav[\"Activ\"], color = 'dodgerblue', edgecolor = 'black',\n",
    "         bins = int(45))\n",
    "\n",
    "plt.title('Activity Distribution')\n",
    "plt.xlabel('Activity level')\n",
    "plt.ylabel('Count of Activity')"
   ]
  },
  {
   "cell_type": "code",
   "execution_count": 22,
   "id": "ce8d6d2a",
   "metadata": {},
   "outputs": [
    {
     "name": "stdout",
     "output_type": "stream",
     "text": [
      "the numbers greater than 800 in Activ : 296\n",
      "the percent greater than 800 in Activ : 0.002049081028694057%\n"
     ]
    }
   ],
   "source": [
    "# This output tells us how many numbers are greater than 800 in the activ variable\n",
    "k = 800\n",
    "count = 0\n",
    "for i in subnewbehav[\"Activ\"] : \n",
    "    if i > k :\n",
    "        count = count + 1\n",
    "\n",
    "print(\"the numbers greater than 800 in Activ : \" + str(count))\n",
    "print(\"the percent greater than 800 in Activ : \" + str(count/144455) + \"%\")\n",
    "# 144455 is the amount of observations in the subnewbehav data set"
   ]
  },
  {
   "cell_type": "code",
   "execution_count": 23,
   "id": "7cbcfee1",
   "metadata": {},
   "outputs": [
    {
     "name": "stdout",
     "output_type": "stream",
     "text": [
      "Mean of Activ is : 74.55571070575611\n",
      "Mean of Activ is : 74.5557107057561\n"
     ]
    }
   ],
   "source": [
    "# This just shows us the mean of the activ variable, not needed but good practice\n",
    "print(\"Mean of Activ is :\", statistics.mean(subnewbehav[\"Activ\"]))\n",
    "\n",
    "# This shows us the mean of the activ variable if we had nan's in the variable\n",
    "# Since we don't have any nan's its good we got the same number\n",
    "\n",
    "print(\"Mean of Activ is :\", np.nanmean(subnewbehav[\"Activ\"]))"
   ]
  },
  {
   "cell_type": "code",
   "execution_count": 24,
   "id": "6f90d58a",
   "metadata": {},
   "outputs": [
    {
     "data": {
      "text/plain": [
       "Text(0, 0.5, 'BMI')"
      ]
     },
     "execution_count": 24,
     "metadata": {},
     "output_type": "execute_result"
    },
    {
     "data": {
      "image/png": "[encoded data removed]",
      "text/plain": [
       "<Figure size 432x288 with 1 Axes>"
      ]
     },
     "metadata": {
      "needs_background": "light"
     },
     "output_type": "display_data"
    }
   ],
   "source": [
    "plt.scatter(subnewbehav[\"Avedrnk\"], subnewbehav[\"BMI\"], alpha = 1, s = 15)\n",
    "\n",
    "plt.title('Scatterplot of Average Drinks and BMI')\n",
    "plt.xlabel('Average drinks per day')\n",
    "plt.ylabel('BMI')\n",
    "\n",
    "# Still need to add a regression line to this"
   ]
  },
  {
   "cell_type": "code",
   "execution_count": 25,
   "id": "9de1c287",
   "metadata": {},
   "outputs": [
    {
     "data": {
      "text/plain": [
       "Text(0, 0.5, 'BMI')"
      ]
     },
     "execution_count": 25,
     "metadata": {},
     "output_type": "execute_result"
    },
    {
     "data": {
      "image/png": "[encoded data removed]",
      "text/plain": [
       "<Figure size 432x288 with 1 Axes>"
      ]
     },
     "metadata": {
      "needs_background": "light"
     },
     "output_type": "display_data"
    }
   ],
   "source": [
    "# This creates a scatterplot of these two variables but also adds a regression line automatically\n",
    "sns.regplot(x = subnewbehav['Avedrnk'], y = subnewbehav['BMI'])\n",
    "\n",
    "plt.title('Scatterplot of Average Drinks and BMI')\n",
    "plt.xlabel('Average drinks per day')\n",
    "plt.ylabel('BMI')"
   ]
  },
  {
   "cell_type": "code",
   "execution_count": 26,
   "id": "9a62a20e",
   "metadata": {},
   "outputs": [
    {
     "name": "stdout",
     "output_type": "stream",
     "text": [
      "    Gender    BMI\n",
      "6     Male  32.98\n",
      "7     Male  30.81\n",
      "10  Female  22.31\n",
      "13    Male  25.79\n",
      "20  Female  30.90\n",
      "22    Male  26.58\n",
      "25  Female  22.71\n",
      "34    Male  32.98\n",
      "37    Male  33.90\n",
      "39  Female  22.92\n",
      "Gender  Female   Male\n",
      "6          NaN  32.98\n",
      "7          NaN  30.81\n",
      "10       22.31    NaN\n",
      "13         NaN  25.79\n",
      "20       30.90    NaN\n",
      "22         NaN  26.58\n",
      "25       22.71    NaN\n",
      "34         NaN  32.98\n",
      "37         NaN  33.90\n",
      "39       22.92    NaN\n"
     ]
    }
   ],
   "source": [
    "# Rearrangning the data so I can make an overlapping density plot\n",
    "\n",
    "den_data = subnewbehav[[\"Gender\",\"BMI\"]]\n",
    "print(den_data.head(10))\n",
    "\n",
    "# This transforms the data into a wide format so I can use it in a density plot\n",
    "\n",
    "den_data = den_data.pivot(columns = 'Gender', values = 'BMI')\n",
    "print(den_data.head(10))"
   ]
  },
  {
   "cell_type": "code",
   "execution_count": 27,
   "id": "be147e93",
   "metadata": {},
   "outputs": [
    {
     "data": {
      "text/plain": [
       "Text(0.5, 0, 'BMI')"
      ]
     },
     "execution_count": 27,
     "metadata": {},
     "output_type": "execute_result"
    },
    {
     "data": {
      "image/png": "[encoded data removed]",
      "text/plain": [
       "<Figure size 504x504 with 1 Axes>"
      ]
     },
     "metadata": {
      "needs_background": "light"
     },
     "output_type": "display_data"
    }
   ],
   "source": [
    "# Creating an overlapping density plot\n",
    "\n",
    "den_data.plot.density(figsize = (7, 7), linewidth = 3)\n",
    "\n",
    "plt.xlabel(\"BMI\")"
   ]
  },
  {
   "cell_type": "code",
   "execution_count": 28,
   "id": "1837c402",
   "metadata": {},
   "outputs": [
    {
     "data": {
      "text/html": [
       "<div>\n",
       "<style scoped>\n",
       "    .dataframe tbody tr th:only-of-type {\n",
       "        vertical-align: middle;\n",
       "    }\n",
       "\n",
       "    .dataframe tbody tr th {\n",
       "        vertical-align: top;\n",
       "    }\n",
       "\n",
       "    .dataframe thead th {\n",
       "        text-align: right;\n",
       "    }\n",
       "</style>\n",
       "<table border=\"1\" class=\"dataframe\">\n",
       "  <thead>\n",
       "    <tr style=\"text-align: right;\">\n",
       "      <th>Gender</th>\n",
       "      <th>Female</th>\n",
       "      <th>Male</th>\n",
       "    </tr>\n",
       "  </thead>\n",
       "  <tbody>\n",
       "    <tr>\n",
       "      <th>count</th>\n",
       "      <td>69407.00</td>\n",
       "      <td>75048.00</td>\n",
       "    </tr>\n",
       "    <tr>\n",
       "      <th>mean</th>\n",
       "      <td>26.99</td>\n",
       "      <td>28.04</td>\n",
       "    </tr>\n",
       "    <tr>\n",
       "      <th>std</th>\n",
       "      <td>5.99</td>\n",
       "      <td>5.15</td>\n",
       "    </tr>\n",
       "    <tr>\n",
       "      <th>min</th>\n",
       "      <td>12.05</td>\n",
       "      <td>12.16</td>\n",
       "    </tr>\n",
       "    <tr>\n",
       "      <th>25%</th>\n",
       "      <td>22.80</td>\n",
       "      <td>24.41</td>\n",
       "    </tr>\n",
       "    <tr>\n",
       "      <th>50%</th>\n",
       "      <td>25.79</td>\n",
       "      <td>27.26</td>\n",
       "    </tr>\n",
       "    <tr>\n",
       "      <th>75%</th>\n",
       "      <td>29.95</td>\n",
       "      <td>30.54</td>\n",
       "    </tr>\n",
       "    <tr>\n",
       "      <th>max</th>\n",
       "      <td>98.70</td>\n",
       "      <td>92.22</td>\n",
       "    </tr>\n",
       "  </tbody>\n",
       "</table>\n",
       "</div>"
      ],
      "text/plain": [
       "Gender    Female      Male\n",
       "count   69407.00  75048.00\n",
       "mean       26.99     28.04\n",
       "std         5.99      5.15\n",
       "min        12.05     12.16\n",
       "25%        22.80     24.41\n",
       "50%        25.79     27.26\n",
       "75%        29.95     30.54\n",
       "max        98.70     92.22"
      ]
     },
     "execution_count": 28,
     "metadata": {},
     "output_type": "execute_result"
    }
   ],
   "source": [
    "# Ensuring that the data is the same as before even after transposing it\n",
    "# I wasn't sure it was the same because the overlapping density plot had larger x-values than the data had\n",
    "# However, the data is the same so I will limit the x-axis in the next plot\n",
    "\n",
    "round(den_data.describe(), 2)"
   ]
  },
  {
   "cell_type": "code",
   "execution_count": 29,
   "id": "28655f2a",
   "metadata": {},
   "outputs": [
    {
     "data": {
      "text/plain": [
       "Text(0.5, 1.0, 'Overlapping density plot of Gender and BMI')"
      ]
     },
     "execution_count": 29,
     "metadata": {},
     "output_type": "execute_result"
    },
    {
     "data": {
      "image/png": "[encoded data removed]",
      "text/plain": [
       "<Figure size 504x504 with 1 Axes>"
      ]
     },
     "metadata": {
      "needs_background": "light"
     },
     "output_type": "display_data"
    }
   ],
   "source": [
    "# Creating an overlapping density plot and limiting the x-axis\n",
    "\n",
    "den_data.plot.density(figsize = (7, 7), linewidth = 3)\n",
    "\n",
    "plt.xlim(0,100)\n",
    "plt.xlabel(\"BMI\")\n",
    "plt.title(\"Overlapping density plot of Gender and BMI\")"
   ]
  },
  {
   "cell_type": "code",
   "execution_count": 30,
   "id": "7adc6ef3",
   "metadata": {},
   "outputs": [
    {
     "data": {
      "text/plain": [
       "Text(0.5, 6.79999999999999, 'BMI')"
      ]
     },
     "execution_count": 30,
     "metadata": {},
     "output_type": "execute_result"
    },
    {
     "data": {
      "image/png": "[encoded data removed]",
      "text/plain": [
       "<Figure size 432.125x360 with 1 Axes>"
      ]
     },
     "metadata": {
      "needs_background": "light"
     },
     "output_type": "display_data"
    }
   ],
   "source": [
    "sns.displot(den_data, kind = \"kde\")\n",
    "\n",
    "plt.xlabel('BMI')"
   ]
  },
  {
   "cell_type": "code",
   "execution_count": 31,
   "id": "57bdd3b4",
   "metadata": {},
   "outputs": [
    {
     "name": "stdout",
     "output_type": "stream",
     "text": [
      "          Avedrnk       Age     Activ       BMI\n",
      "Avedrnk  1.000000 -0.210073  0.015560  0.048817\n",
      "Age     -0.210073  1.000000  0.173526 -0.008785\n",
      "Activ    0.015560  0.173526  1.000000 -0.057337\n",
      "BMI      0.048817 -0.008785 -0.057337  1.000000\n"
     ]
    }
   ],
   "source": [
    "# Creating a correlation matrix\n",
    "\n",
    "coeffmatrix = subnewbehav.corr()\n",
    "print(coeffmatrix)"
   ]
  },
  {
   "cell_type": "code",
   "execution_count": 32,
   "id": "3e1827e3",
   "metadata": {},
   "outputs": [
    {
     "data": {
      "image/png": "[encoded data removed]",
      "text/plain": [
       "<Figure size 432x288 with 2 Axes>"
      ]
     },
     "metadata": {
      "needs_background": "light"
     },
     "output_type": "display_data"
    }
   ],
   "source": [
    "# Creating a heatmap of the data\n",
    "\n",
    "sns.heatmap(coeffmatrix, annot = True)\n",
    "\n",
    "plt.title(\"Correlation matrix\")\n",
    "plt.show()"
   ]
  },
  {
   "cell_type": "code",
   "execution_count": 33,
   "id": "47c2411e",
   "metadata": {},
   "outputs": [
    {
     "name": "stderr",
     "output_type": "stream",
     "text": [
      "C:\\Users\\tkste\\AppData\\Local\\Temp/ipykernel_11952/1482703344.py:7: SettingWithCopyWarning: \n",
      "A value is trying to be set on a copy of a slice from a DataFrame.\n",
      "Try using .loc[row_indexer,col_indexer] = value instead\n",
      "\n",
      "See the caveats in the documentation: https://pandas.pydata.org/pandas-docs/stable/user_guide/indexing.html#returning-a-view-versus-a-copy\n",
      "  subnewbehav2[\"Gender\"] = subnewbehav2[\"Gender\"].replace(\"Male\",0)\n",
      "C:\\Users\\tkste\\AppData\\Local\\Temp/ipykernel_11952/1482703344.py:8: SettingWithCopyWarning: \n",
      "A value is trying to be set on a copy of a slice from a DataFrame.\n",
      "Try using .loc[row_indexer,col_indexer] = value instead\n",
      "\n",
      "See the caveats in the documentation: https://pandas.pydata.org/pandas-docs/stable/user_guide/indexing.html#returning-a-view-versus-a-copy\n",
      "  subnewbehav2[\"Gender\"] = subnewbehav2[\"Gender\"].replace(\"Female\", 1)\n"
     ]
    },
    {
     "data": {
      "text/html": [
       "<div>\n",
       "<style scoped>\n",
       "    .dataframe tbody tr th:only-of-type {\n",
       "        vertical-align: middle;\n",
       "    }\n",
       "\n",
       "    .dataframe tbody tr th {\n",
       "        vertical-align: top;\n",
       "    }\n",
       "\n",
       "    .dataframe thead th {\n",
       "        text-align: right;\n",
       "    }\n",
       "</style>\n",
       "<table border=\"1\" class=\"dataframe\">\n",
       "  <thead>\n",
       "    <tr style=\"text-align: right;\">\n",
       "      <th></th>\n",
       "      <th>Avedrnk</th>\n",
       "      <th>Age</th>\n",
       "      <th>Activ</th>\n",
       "      <th>BMI</th>\n",
       "      <th>Gender</th>\n",
       "    </tr>\n",
       "  </thead>\n",
       "  <tbody>\n",
       "    <tr>\n",
       "      <th>6</th>\n",
       "      <td>-0.092662</td>\n",
       "      <td>-0.498007</td>\n",
       "      <td>-0.632086</td>\n",
       "      <td>-0.862326</td>\n",
       "      <td>0.0</td>\n",
       "    </tr>\n",
       "    <tr>\n",
       "      <th>7</th>\n",
       "      <td>-0.092662</td>\n",
       "      <td>-0.841813</td>\n",
       "      <td>-0.292697</td>\n",
       "      <td>0.972737</td>\n",
       "      <td>0.0</td>\n",
       "    </tr>\n",
       "    <tr>\n",
       "      <th>10</th>\n",
       "      <td>-0.092662</td>\n",
       "      <td>0.533412</td>\n",
       "      <td>-0.467900</td>\n",
       "      <td>0.622520</td>\n",
       "      <td>1.0</td>\n",
       "    </tr>\n",
       "    <tr>\n",
       "      <th>13</th>\n",
       "      <td>-0.531413</td>\n",
       "      <td>-0.211501</td>\n",
       "      <td>-0.008101</td>\n",
       "      <td>-1.282229</td>\n",
       "      <td>0.0</td>\n",
       "    </tr>\n",
       "    <tr>\n",
       "      <th>20</th>\n",
       "      <td>-0.531413</td>\n",
       "      <td>0.705315</td>\n",
       "      <td>0.558505</td>\n",
       "      <td>-0.572862</td>\n",
       "      <td>1.0</td>\n",
       "    </tr>\n",
       "    <tr>\n",
       "      <th>...</th>\n",
       "      <td>...</td>\n",
       "      <td>...</td>\n",
       "      <td>...</td>\n",
       "      <td>...</td>\n",
       "      <td>...</td>\n",
       "    </tr>\n",
       "    <tr>\n",
       "      <th>144435</th>\n",
       "      <td>-0.092662</td>\n",
       "      <td>-0.612609</td>\n",
       "      <td>-0.590991</td>\n",
       "      <td>-0.462079</td>\n",
       "      <td>0.0</td>\n",
       "    </tr>\n",
       "    <tr>\n",
       "      <th>144441</th>\n",
       "      <td>0.346090</td>\n",
       "      <td>-1.185619</td>\n",
       "      <td>-0.529398</td>\n",
       "      <td>-0.331641</td>\n",
       "      <td>0.0</td>\n",
       "    </tr>\n",
       "    <tr>\n",
       "      <th>144443</th>\n",
       "      <td>2.101095</td>\n",
       "      <td>-0.784512</td>\n",
       "      <td>-0.303617</td>\n",
       "      <td>1.662449</td>\n",
       "      <td>0.0</td>\n",
       "    </tr>\n",
       "    <tr>\n",
       "      <th>144450</th>\n",
       "      <td>0.784841</td>\n",
       "      <td>-1.815930</td>\n",
       "      <td>0.900575</td>\n",
       "      <td>-0.229792</td>\n",
       "      <td>1.0</td>\n",
       "    </tr>\n",
       "    <tr>\n",
       "      <th>144451</th>\n",
       "      <td>-0.092662</td>\n",
       "      <td>-1.185619</td>\n",
       "      <td>-0.549993</td>\n",
       "      <td>-0.817656</td>\n",
       "      <td>1.0</td>\n",
       "    </tr>\n",
       "  </tbody>\n",
       "</table>\n",
       "<p>49352 rows × 5 columns</p>\n",
       "</div>"
      ],
      "text/plain": [
       "         Avedrnk       Age     Activ       BMI  Gender\n",
       "6      -0.092662 -0.498007 -0.632086 -0.862326     0.0\n",
       "7      -0.092662 -0.841813 -0.292697  0.972737     0.0\n",
       "10     -0.092662  0.533412 -0.467900  0.622520     1.0\n",
       "13     -0.531413 -0.211501 -0.008101 -1.282229     0.0\n",
       "20     -0.531413  0.705315  0.558505 -0.572862     1.0\n",
       "...          ...       ...       ...       ...     ...\n",
       "144435 -0.092662 -0.612609 -0.590991 -0.462079     0.0\n",
       "144441  0.346090 -1.185619 -0.529398 -0.331641     0.0\n",
       "144443  2.101095 -0.784512 -0.303617  1.662449     0.0\n",
       "144450  0.784841 -1.815930  0.900575 -0.229792     1.0\n",
       "144451 -0.092662 -1.185619 -0.549993 -0.817656     1.0\n",
       "\n",
       "[49352 rows x 5 columns]"
      ]
     },
     "execution_count": 33,
     "metadata": {},
     "output_type": "execute_result"
    }
   ],
   "source": [
    "# Implementing algorithms to create models\n",
    "# Normalizing data\n",
    "\n",
    "from sklearn.preprocessing import StandardScaler\n",
    "\n",
    "# Changing back the gender variable to 0 and 1\n",
    "subnewbehav2[\"Gender\"] = subnewbehav2[\"Gender\"].replace(\"Male\",0)\n",
    "subnewbehav2[\"Gender\"] = subnewbehav2[\"Gender\"].replace(\"Female\", 1)\n",
    "\n",
    "subnewbehav_norm = StandardScaler().fit_transform(subnewbehav2[['Avedrnk','Age','Activ','BMI']])\n",
    "subnewbehav_norm = pd.DataFrame(subnewbehav_norm)\n",
    "subnewbehav_norm.insert(4, 'Gender', subnewbehav2['Gender'], True)\n",
    "\n",
    "subnewbehav_norm.columns = ['Avedrnk','Age','Activ','BMI','Gender']\n",
    "subnewbehav_norm = subnewbehav_norm.dropna()\n",
    "\n",
    "subnewbehav_norm"
   ]
  },
  {
   "cell_type": "code",
   "execution_count": 34,
   "id": "fd786723",
   "metadata": {},
   "outputs": [
    {
     "data": {
      "image/png": "[encoded data removed]",
      "text/plain": [
       "<Figure size 432x288 with 4 Axes>"
      ]
     },
     "metadata": {
      "needs_background": "light"
     },
     "output_type": "display_data"
    }
   ],
   "source": [
    "# removing gender from these plots because it is a dummy variable\n",
    "subnewbehav_norm[[\"Avedrnk\",\"Age\",\"Activ\",\"BMI\"]].hist()\n",
    "plt.show()"
   ]
  },
  {
   "cell_type": "code",
   "execution_count": 35,
   "id": "076ff001",
   "metadata": {},
   "outputs": [
    {
     "name": "stdout",
     "output_type": "stream",
     "text": [
      "0.6\n",
      "0.2\n",
      "0.2\n"
     ]
    }
   ],
   "source": [
    "# Splitting the data into training, validation, and test groups\n",
    "from sklearn.model_selection import train_test_split\n",
    "\n",
    "X =  subnewbehav_norm.drop('BMI', axis = 1) # x variables\n",
    "Y = subnewbehav_norm['BMI'] # y variable\n",
    "\n",
    "X_train, X_test, y_train, y_test = train_test_split(X, Y, test_size = 0.4, random_state = 42)\n",
    "# To make the cross validation set, we will split this test set again\n",
    "X_val, X_test, y_val, y_test = train_test_split(X_test, y_test, test_size = 0.5, random_state = 42)\n",
    "\n",
    "# Ensuring the split is 60%, 20%, 20%\n",
    "for dataset in [y_train, y_val, y_test]:\n",
    "    print(round(len(dataset) / len(Y), 2))"
   ]
  },
  {
   "cell_type": "code",
   "execution_count": 36,
   "id": "1b27f3bd",
   "metadata": {},
   "outputs": [],
   "source": [
    "from sklearn.linear_model import LinearRegression\n",
    "from sklearn.ensemble import RandomForestRegressor\n",
    "from sklearn.neural_network import MLPRegressor\n",
    "from sklearn.ensemble import GradientBoostingRegressor\n",
    "from sklearn.metrics import mean_absolute_error, r2_score\n",
    "from sklearn.model_selection import GridSearchCV\n",
    "import warnings\n",
    "warnings.filterwarnings('ignore', category=FutureWarning)\n",
    "warnings.filterwarnings('ignore', category=DeprecationWarning)\n",
    "\n",
    "def print_results(results):\n",
    "    print('BEST PARAMS: {}\\n'.format(results.best_params_))\n",
    "\n",
    "    means = results.cv_results_['mean_test_score']\n",
    "    stds = results.cv_results_['std_test_score']\n",
    "    for mean, std, params in zip(means, stds, results.cv_results_['params']):\n",
    "        print('{} (+/-{}) for {}'.format(round(mean, 3), round(std * 2, 3), params))"
   ]
  },
  {
   "cell_type": "code",
   "execution_count": 38,
   "id": "91594fc6",
   "metadata": {},
   "outputs": [
    {
     "name": "stdout",
     "output_type": "stream",
     "text": [
      "              Method Training MAE Training R2   Val MAE    Val R2\n",
      "0  Linear Regression      0.75157    0.006179  0.750861  0.006961\n"
     ]
    }
   ],
   "source": [
    "lr = LinearRegression()\n",
    "lr.fit(X_train, y_train)\n",
    "\n",
    "y_lr_train_pred = lr.predict(X_train)\n",
    "y_lr_val_pred = lr.predict(X_val)\n",
    "\n",
    "lr_train_mae = mean_absolute_error(y_train, y_lr_train_pred)\n",
    "lr_train_r2 = r2_score(y_train, y_lr_train_pred)\n",
    "\n",
    "lr_val_mae = mean_absolute_error(y_val, y_lr_val_pred)\n",
    "lr_val_r2 = r2_score(y_val, y_lr_val_pred)\n",
    "\n",
    "lr_results = pd.DataFrame(['Linear Regression', lr_train_mae, lr_train_r2, lr_val_mae, lr_val_r2]).transpose()\n",
    "lr_results.columns = ['Method', 'Training MAE', 'Training R2', 'Val MAE', 'Val R2']\n",
    "print(lr_results)"
   ]
  },
  {
   "cell_type": "code",
   "execution_count": 39,
   "id": "7844ac2d",
   "metadata": {},
   "outputs": [
    {
     "name": "stdout",
     "output_type": "stream",
     "text": [
      "BEST PARAMS: {'max_depth': 4, 'n_estimators': 50}\n",
      "\n",
      "0.021 (+/-0.006) for {'max_depth': 2, 'n_estimators': 5}\n",
      "0.023 (+/-0.005) for {'max_depth': 2, 'n_estimators': 50}\n",
      "0.023 (+/-0.005) for {'max_depth': 2, 'n_estimators': 250}\n",
      "0.031 (+/-0.01) for {'max_depth': 4, 'n_estimators': 5}\n",
      "0.033 (+/-0.009) for {'max_depth': 4, 'n_estimators': 50}\n",
      "0.033 (+/-0.009) for {'max_depth': 4, 'n_estimators': 250}\n",
      "0.024 (+/-0.011) for {'max_depth': 8, 'n_estimators': 5}\n",
      "0.031 (+/-0.009) for {'max_depth': 8, 'n_estimators': 50}\n",
      "0.032 (+/-0.009) for {'max_depth': 8, 'n_estimators': 250}\n",
      "-0.115 (+/-0.04) for {'max_depth': 16, 'n_estimators': 5}\n",
      "-0.042 (+/-0.019) for {'max_depth': 16, 'n_estimators': 50}\n",
      "-0.035 (+/-0.016) for {'max_depth': 16, 'n_estimators': 250}\n",
      "-0.344 (+/-0.034) for {'max_depth': 32, 'n_estimators': 5}\n",
      "-0.221 (+/-0.025) for {'max_depth': 32, 'n_estimators': 50}\n",
      "-0.206 (+/-0.026) for {'max_depth': 32, 'n_estimators': 250}\n",
      "-0.355 (+/-0.055) for {'max_depth': None, 'n_estimators': 5}\n",
      "-0.222 (+/-0.024) for {'max_depth': None, 'n_estimators': 50}\n",
      "-0.21 (+/-0.028) for {'max_depth': None, 'n_estimators': 250}\n"
     ]
    }
   ],
   "source": [
    "rf = RandomForestRegressor()\n",
    "parameters = {\n",
    "    'n_estimators': [5, 50, 250],\n",
    "    'max_depth': [2, 4, 8, 16, 32, None]# the none lets the random forest go as deep as it wants before it hits an error with random forest classifier\n",
    "}\n",
    "\n",
    "rf_cv = GridSearchCV(rf, parameters, cv = 5)\n",
    "rf_cv.fit(X_train, y_train.values.ravel())\n",
    "\n",
    "print_results(rf_cv)\n",
    "# we define the print results function from the cell above\n",
    "# If we run this cell again we will get different results because each tree is independent and random"
   ]
  },
  {
   "cell_type": "code",
   "execution_count": 40,
   "id": "dbce77d4",
   "metadata": {},
   "outputs": [
    {
     "data": {
      "text/html": [
       "<div>\n",
       "<style scoped>\n",
       "    .dataframe tbody tr th:only-of-type {\n",
       "        vertical-align: middle;\n",
       "    }\n",
       "\n",
       "    .dataframe tbody tr th {\n",
       "        vertical-align: top;\n",
       "    }\n",
       "\n",
       "    .dataframe thead th {\n",
       "        text-align: right;\n",
       "    }\n",
       "</style>\n",
       "<table border=\"1\" class=\"dataframe\">\n",
       "  <thead>\n",
       "    <tr style=\"text-align: right;\">\n",
       "      <th></th>\n",
       "      <th>Method</th>\n",
       "      <th>Training MAE</th>\n",
       "      <th>Training R2</th>\n",
       "      <th>Val MAE</th>\n",
       "      <th>Val R2</th>\n",
       "    </tr>\n",
       "  </thead>\n",
       "  <tbody>\n",
       "    <tr>\n",
       "      <th>0</th>\n",
       "      <td>Linear Regression</td>\n",
       "      <td>0.75157</td>\n",
       "      <td>0.006179</td>\n",
       "      <td>0.750861</td>\n",
       "      <td>0.006961</td>\n",
       "    </tr>\n",
       "    <tr>\n",
       "      <th>0</th>\n",
       "      <td>Random Forest</td>\n",
       "      <td>0.737921</td>\n",
       "      <td>0.03738</td>\n",
       "      <td>0.740028</td>\n",
       "      <td>0.029483</td>\n",
       "    </tr>\n",
       "  </tbody>\n",
       "</table>\n",
       "</div>"
      ],
      "text/plain": [
       "              Method Training MAE Training R2   Val MAE    Val R2\n",
       "0  Linear Regression      0.75157    0.006179  0.750861  0.006961\n",
       "0      Random Forest     0.737921     0.03738  0.740028  0.029483"
      ]
     },
     "execution_count": 40,
     "metadata": {},
     "output_type": "execute_result"
    }
   ],
   "source": [
    "# Creating the MAE and R-squared for Random Forest\n",
    "y_rf_train_pred = rf_cv.predict(X_train)\n",
    "y_rf_val_pred = rf_cv.predict(X_val)\n",
    "\n",
    "rf_train_mse = mean_absolute_error(y_train, y_rf_train_pred)\n",
    "rf_train_r2 = r2_score(y_train, y_rf_train_pred)\n",
    "\n",
    "rf_val_mse = mean_absolute_error(y_val, y_rf_val_pred)\n",
    "rf_val_r2 = r2_score(y_val, y_rf_val_pred)\n",
    "\n",
    "rf_results = pd.DataFrame(['Random Forest', rf_train_mse, rf_train_r2, rf_val_mse, rf_val_r2]).transpose()\n",
    "rf_results.columns = ['Method', 'Training MAE', 'Training R2', 'Val MAE', 'Val R2']\n",
    "\n",
    "pd.concat([lr_results, rf_results])"
   ]
  },
  {
   "cell_type": "code",
   "execution_count": 41,
   "id": "a07c25a5",
   "metadata": {},
   "outputs": [
    {
     "name": "stdout",
     "output_type": "stream",
     "text": [
      "BEST PARAMS: {'activation': 'relu', 'hidden_layer_sizes': (100,), 'learning_rate': 'constant'}\n",
      "\n",
      "0.032 (+/-0.011) for {'activation': 'relu', 'hidden_layer_sizes': (10,), 'learning_rate': 'constant'}\n",
      "0.031 (+/-0.013) for {'activation': 'relu', 'hidden_layer_sizes': (10,), 'learning_rate': 'invscaling'}\n",
      "0.033 (+/-0.012) for {'activation': 'relu', 'hidden_layer_sizes': (10,), 'learning_rate': 'adaptive'}\n",
      "0.035 (+/-0.01) for {'activation': 'relu', 'hidden_layer_sizes': (50,), 'learning_rate': 'constant'}\n",
      "0.033 (+/-0.012) for {'activation': 'relu', 'hidden_layer_sizes': (50,), 'learning_rate': 'invscaling'}\n",
      "0.034 (+/-0.011) for {'activation': 'relu', 'hidden_layer_sizes': (50,), 'learning_rate': 'adaptive'}\n",
      "0.035 (+/-0.011) for {'activation': 'relu', 'hidden_layer_sizes': (100,), 'learning_rate': 'constant'}\n",
      "0.034 (+/-0.014) for {'activation': 'relu', 'hidden_layer_sizes': (100,), 'learning_rate': 'invscaling'}\n",
      "0.033 (+/-0.007) for {'activation': 'relu', 'hidden_layer_sizes': (100,), 'learning_rate': 'adaptive'}\n",
      "0.031 (+/-0.013) for {'activation': 'tanh', 'hidden_layer_sizes': (10,), 'learning_rate': 'constant'}\n",
      "0.03 (+/-0.01) for {'activation': 'tanh', 'hidden_layer_sizes': (10,), 'learning_rate': 'invscaling'}\n",
      "0.031 (+/-0.01) for {'activation': 'tanh', 'hidden_layer_sizes': (10,), 'learning_rate': 'adaptive'}\n",
      "0.031 (+/-0.013) for {'activation': 'tanh', 'hidden_layer_sizes': (50,), 'learning_rate': 'constant'}\n",
      "0.032 (+/-0.011) for {'activation': 'tanh', 'hidden_layer_sizes': (50,), 'learning_rate': 'invscaling'}\n",
      "0.032 (+/-0.011) for {'activation': 'tanh', 'hidden_layer_sizes': (50,), 'learning_rate': 'adaptive'}\n",
      "0.03 (+/-0.009) for {'activation': 'tanh', 'hidden_layer_sizes': (100,), 'learning_rate': 'constant'}\n",
      "0.031 (+/-0.013) for {'activation': 'tanh', 'hidden_layer_sizes': (100,), 'learning_rate': 'invscaling'}\n",
      "0.029 (+/-0.016) for {'activation': 'tanh', 'hidden_layer_sizes': (100,), 'learning_rate': 'adaptive'}\n"
     ]
    }
   ],
   "source": [
    "# avoid rerunning this cell, takes about 10min because of the MLP model\n",
    "mlp = MLPRegressor()\n",
    "parameters = {\n",
    "    'hidden_layer_sizes': [(10,), (50,), (100,)],# leaving after the comma blank implies one layer. so 10 nodes with one layer, 50 nodes with one yaer and 100 nodes with one layer are tested here\n",
    "    'activation': ['relu', 'tanh'],\n",
    "    'learning_rate': ['constant', 'invscaling', 'adaptive']# invscaling decreses the learning rate over time so it goes slower as we hopefully get closer to the minimum. adaptive keeps the elarning rate constant as long as it is still going down. once the loss funciton starts increasing, it decreases the learning rate.\n",
    "}\n",
    "\n",
    "nn_cv = GridSearchCV(mlp, parameters, cv = 5)\n",
    "nn_cv.fit(X_train, y_train.values.ravel())\n",
    "\n",
    "print_results(nn_cv)"
   ]
  },
  {
   "cell_type": "code",
   "execution_count": 42,
   "id": "622d9d93",
   "metadata": {},
   "outputs": [
    {
     "data": {
      "text/html": [
       "<div>\n",
       "<style scoped>\n",
       "    .dataframe tbody tr th:only-of-type {\n",
       "        vertical-align: middle;\n",
       "    }\n",
       "\n",
       "    .dataframe tbody tr th {\n",
       "        vertical-align: top;\n",
       "    }\n",
       "\n",
       "    .dataframe thead th {\n",
       "        text-align: right;\n",
       "    }\n",
       "</style>\n",
       "<table border=\"1\" class=\"dataframe\">\n",
       "  <thead>\n",
       "    <tr style=\"text-align: right;\">\n",
       "      <th></th>\n",
       "      <th>Method</th>\n",
       "      <th>Training MAE</th>\n",
       "      <th>Training R2</th>\n",
       "      <th>Val MAE</th>\n",
       "      <th>Val R2</th>\n",
       "    </tr>\n",
       "  </thead>\n",
       "  <tbody>\n",
       "    <tr>\n",
       "      <th>0</th>\n",
       "      <td>Linear Regression</td>\n",
       "      <td>0.75157</td>\n",
       "      <td>0.006179</td>\n",
       "      <td>0.750861</td>\n",
       "      <td>0.006961</td>\n",
       "    </tr>\n",
       "    <tr>\n",
       "      <th>0</th>\n",
       "      <td>Random Forest</td>\n",
       "      <td>0.737921</td>\n",
       "      <td>0.03738</td>\n",
       "      <td>0.740028</td>\n",
       "      <td>0.029483</td>\n",
       "    </tr>\n",
       "    <tr>\n",
       "      <th>0</th>\n",
       "      <td>Neural Network</td>\n",
       "      <td>0.737639</td>\n",
       "      <td>0.041449</td>\n",
       "      <td>0.739722</td>\n",
       "      <td>0.033059</td>\n",
       "    </tr>\n",
       "  </tbody>\n",
       "</table>\n",
       "</div>"
      ],
      "text/plain": [
       "              Method Training MAE Training R2   Val MAE    Val R2\n",
       "0  Linear Regression      0.75157    0.006179  0.750861  0.006961\n",
       "0      Random Forest     0.737921     0.03738  0.740028  0.029483\n",
       "0     Neural Network     0.737639    0.041449  0.739722  0.033059"
      ]
     },
     "execution_count": 42,
     "metadata": {},
     "output_type": "execute_result"
    }
   ],
   "source": [
    "y_nn_train_pred = nn_cv.predict(X_train)\n",
    "y_nn_val_pred = nn_cv.predict(X_val)\n",
    "\n",
    "nn_train_mae = mean_absolute_error(y_train, y_nn_train_pred)\n",
    "nn_train_r2 = r2_score(y_train, y_nn_train_pred)\n",
    "\n",
    "nn_val_mae = mean_absolute_error(y_val, y_nn_val_pred)\n",
    "nn_val_r2 = r2_score(y_val, y_nn_val_pred)\n",
    "\n",
    "nn_results = pd.DataFrame(['Neural Network', nn_train_mae, nn_train_r2, nn_val_mae, nn_val_r2]).transpose()\n",
    "nn_results.columns = ['Method', 'Training MAE', 'Training R2', 'Val MAE', 'Val R2']\n",
    "\n",
    "pd.concat([lr_results, rf_results, nn_results])"
   ]
  },
  {
   "cell_type": "code",
   "execution_count": 43,
   "id": "0c22a0a3",
   "metadata": {},
   "outputs": [
    {
     "name": "stdout",
     "output_type": "stream",
     "text": [
      "BEST PARAMS: {'learning_rate': 0.01, 'max_depth': 3, 'n_estimators': 500}\n",
      "\n",
      "0.001 (+/-0.0) for {'learning_rate': 0.01, 'max_depth': 1, 'n_estimators': 5}\n",
      "0.007 (+/-0.001) for {'learning_rate': 0.01, 'max_depth': 1, 'n_estimators': 50}\n",
      "0.021 (+/-0.004) for {'learning_rate': 0.01, 'max_depth': 1, 'n_estimators': 250}\n",
      "0.029 (+/-0.006) for {'learning_rate': 0.01, 'max_depth': 1, 'n_estimators': 500}\n",
      "0.002 (+/-0.001) for {'learning_rate': 0.01, 'max_depth': 3, 'n_estimators': 5}\n",
      "0.018 (+/-0.003) for {'learning_rate': 0.01, 'max_depth': 3, 'n_estimators': 50}\n",
      "0.035 (+/-0.008) for {'learning_rate': 0.01, 'max_depth': 3, 'n_estimators': 250}\n",
      "0.036 (+/-0.01) for {'learning_rate': 0.01, 'max_depth': 3, 'n_estimators': 500}\n",
      "0.003 (+/-0.001) for {'learning_rate': 0.01, 'max_depth': 5, 'n_estimators': 5}\n",
      "0.021 (+/-0.004) for {'learning_rate': 0.01, 'max_depth': 5, 'n_estimators': 50}\n",
      "0.034 (+/-0.01) for {'learning_rate': 0.01, 'max_depth': 5, 'n_estimators': 250}\n",
      "0.033 (+/-0.01) for {'learning_rate': 0.01, 'max_depth': 5, 'n_estimators': 500}\n",
      "0.003 (+/-0.001) for {'learning_rate': 0.01, 'max_depth': 7, 'n_estimators': 5}\n",
      "0.021 (+/-0.004) for {'learning_rate': 0.01, 'max_depth': 7, 'n_estimators': 50}\n",
      "0.028 (+/-0.009) for {'learning_rate': 0.01, 'max_depth': 7, 'n_estimators': 250}\n",
      "0.023 (+/-0.009) for {'learning_rate': 0.01, 'max_depth': 7, 'n_estimators': 500}\n",
      "0.003 (+/-0.001) for {'learning_rate': 0.01, 'max_depth': 9, 'n_estimators': 5}\n",
      "0.02 (+/-0.004) for {'learning_rate': 0.01, 'max_depth': 9, 'n_estimators': 50}\n",
      "0.016 (+/-0.009) for {'learning_rate': 0.01, 'max_depth': 9, 'n_estimators': 250}\n",
      "0.004 (+/-0.01) for {'learning_rate': 0.01, 'max_depth': 9, 'n_estimators': 500}\n",
      "0.007 (+/-0.001) for {'learning_rate': 0.1, 'max_depth': 1, 'n_estimators': 5}\n",
      "0.029 (+/-0.006) for {'learning_rate': 0.1, 'max_depth': 1, 'n_estimators': 50}\n",
      "0.035 (+/-0.011) for {'learning_rate': 0.1, 'max_depth': 1, 'n_estimators': 250}\n",
      "0.035 (+/-0.011) for {'learning_rate': 0.1, 'max_depth': 1, 'n_estimators': 500}\n",
      "0.018 (+/-0.003) for {'learning_rate': 0.1, 'max_depth': 3, 'n_estimators': 5}\n",
      "0.036 (+/-0.009) for {'learning_rate': 0.1, 'max_depth': 3, 'n_estimators': 50}\n",
      "0.032 (+/-0.012) for {'learning_rate': 0.1, 'max_depth': 3, 'n_estimators': 250}\n",
      "0.025 (+/-0.011) for {'learning_rate': 0.1, 'max_depth': 3, 'n_estimators': 500}\n",
      "0.022 (+/-0.004) for {'learning_rate': 0.1, 'max_depth': 5, 'n_estimators': 5}\n",
      "0.032 (+/-0.01) for {'learning_rate': 0.1, 'max_depth': 5, 'n_estimators': 50}\n",
      "0.013 (+/-0.012) for {'learning_rate': 0.1, 'max_depth': 5, 'n_estimators': 250}\n",
      "-0.008 (+/-0.013) for {'learning_rate': 0.1, 'max_depth': 5, 'n_estimators': 500}\n",
      "0.021 (+/-0.004) for {'learning_rate': 0.1, 'max_depth': 7, 'n_estimators': 5}\n",
      "0.023 (+/-0.011) for {'learning_rate': 0.1, 'max_depth': 7, 'n_estimators': 50}\n",
      "-0.025 (+/-0.019) for {'learning_rate': 0.1, 'max_depth': 7, 'n_estimators': 250}\n",
      "-0.075 (+/-0.024) for {'learning_rate': 0.1, 'max_depth': 7, 'n_estimators': 500}\n",
      "0.02 (+/-0.004) for {'learning_rate': 0.1, 'max_depth': 9, 'n_estimators': 5}\n",
      "0.001 (+/-0.008) for {'learning_rate': 0.1, 'max_depth': 9, 'n_estimators': 50}\n",
      "-0.092 (+/-0.015) for {'learning_rate': 0.1, 'max_depth': 9, 'n_estimators': 250}\n",
      "-0.179 (+/-0.03) for {'learning_rate': 0.1, 'max_depth': 9, 'n_estimators': 500}\n",
      "0.027 (+/-0.009) for {'learning_rate': 1, 'max_depth': 1, 'n_estimators': 5}\n",
      "0.033 (+/-0.011) for {'learning_rate': 1, 'max_depth': 1, 'n_estimators': 50}\n",
      "0.033 (+/-0.012) for {'learning_rate': 1, 'max_depth': 1, 'n_estimators': 250}\n",
      "0.032 (+/-0.012) for {'learning_rate': 1, 'max_depth': 1, 'n_estimators': 500}\n",
      "0.029 (+/-0.011) for {'learning_rate': 1, 'max_depth': 3, 'n_estimators': 5}\n",
      "0.005 (+/-0.011) for {'learning_rate': 1, 'max_depth': 3, 'n_estimators': 50}\n",
      "-0.056 (+/-0.012) for {'learning_rate': 1, 'max_depth': 3, 'n_estimators': 250}\n",
      "-0.099 (+/-0.018) for {'learning_rate': 1, 'max_depth': 3, 'n_estimators': 500}\n",
      "0.014 (+/-0.007) for {'learning_rate': 1, 'max_depth': 5, 'n_estimators': 5}\n",
      "-0.099 (+/-0.032) for {'learning_rate': 1, 'max_depth': 5, 'n_estimators': 50}\n",
      "-0.33 (+/-0.037) for {'learning_rate': 1, 'max_depth': 5, 'n_estimators': 250}\n",
      "-0.469 (+/-0.05) for {'learning_rate': 1, 'max_depth': 5, 'n_estimators': 500}\n",
      "-0.035 (+/-0.02) for {'learning_rate': 1, 'max_depth': 7, 'n_estimators': 5}\n",
      "-0.318 (+/-0.064) for {'learning_rate': 1, 'max_depth': 7, 'n_estimators': 50}\n",
      "-0.703 (+/-0.069) for {'learning_rate': 1, 'max_depth': 7, 'n_estimators': 250}\n",
      "-0.841 (+/-0.064) for {'learning_rate': 1, 'max_depth': 7, 'n_estimators': 500}\n",
      "-0.118 (+/-0.03) for {'learning_rate': 1, 'max_depth': 9, 'n_estimators': 5}\n",
      "-0.615 (+/-0.059) for {'learning_rate': 1, 'max_depth': 9, 'n_estimators': 50}\n",
      "-0.918 (+/-0.064) for {'learning_rate': 1, 'max_depth': 9, 'n_estimators': 250}\n",
      "-0.926 (+/-0.062) for {'learning_rate': 1, 'max_depth': 9, 'n_estimators': 500}\n"
     ]
    }
   ],
   "source": [
    "# avoid rerunning this cell, takes about 15min because of the GB model\n",
    "gb = GradientBoostingRegressor()\n",
    "parameters = {\n",
    "    'n_estimators': [5, 50, 250, 500],\n",
    "    'max_depth': [1, 3, 5, 7, 9],# note that we are having shallower but possibly mroe decision trees than random forests\n",
    "    'learning_rate': [0.01, 0.1, 1]\n",
    "}\n",
    "\n",
    "gb_cv = GridSearchCV(gb, parameters, cv = 5)\n",
    "gb_cv.fit(X_train, y_train.values.ravel())\n",
    "\n",
    "print_results(gb_cv)"
   ]
  },
  {
   "cell_type": "code",
   "execution_count": 44,
   "id": "cd7bc3c5",
   "metadata": {},
   "outputs": [
    {
     "data": {
      "text/html": [
       "<div>\n",
       "<style scoped>\n",
       "    .dataframe tbody tr th:only-of-type {\n",
       "        vertical-align: middle;\n",
       "    }\n",
       "\n",
       "    .dataframe tbody tr th {\n",
       "        vertical-align: top;\n",
       "    }\n",
       "\n",
       "    .dataframe thead th {\n",
       "        text-align: right;\n",
       "    }\n",
       "</style>\n",
       "<table border=\"1\" class=\"dataframe\">\n",
       "  <thead>\n",
       "    <tr style=\"text-align: right;\">\n",
       "      <th></th>\n",
       "      <th>Method</th>\n",
       "      <th>Training MAE</th>\n",
       "      <th>Training R2</th>\n",
       "      <th>Val MAE</th>\n",
       "      <th>Val R2</th>\n",
       "    </tr>\n",
       "  </thead>\n",
       "  <tbody>\n",
       "    <tr>\n",
       "      <th>0</th>\n",
       "      <td>Linear Regression</td>\n",
       "      <td>0.75157</td>\n",
       "      <td>0.006179</td>\n",
       "      <td>0.750861</td>\n",
       "      <td>0.006961</td>\n",
       "    </tr>\n",
       "    <tr>\n",
       "      <th>0</th>\n",
       "      <td>Random Forest</td>\n",
       "      <td>0.737921</td>\n",
       "      <td>0.03738</td>\n",
       "      <td>0.740028</td>\n",
       "      <td>0.029483</td>\n",
       "    </tr>\n",
       "    <tr>\n",
       "      <th>0</th>\n",
       "      <td>Neural Network</td>\n",
       "      <td>0.737639</td>\n",
       "      <td>0.041449</td>\n",
       "      <td>0.739722</td>\n",
       "      <td>0.033059</td>\n",
       "    </tr>\n",
       "    <tr>\n",
       "      <th>0</th>\n",
       "      <td>Gradient Boosting</td>\n",
       "      <td>0.737639</td>\n",
       "      <td>0.041449</td>\n",
       "      <td>0.739722</td>\n",
       "      <td>0.033059</td>\n",
       "    </tr>\n",
       "  </tbody>\n",
       "</table>\n",
       "</div>"
      ],
      "text/plain": [
       "              Method Training MAE Training R2   Val MAE    Val R2\n",
       "0  Linear Regression      0.75157    0.006179  0.750861  0.006961\n",
       "0      Random Forest     0.737921     0.03738  0.740028  0.029483\n",
       "0     Neural Network     0.737639    0.041449  0.739722  0.033059\n",
       "0  Gradient Boosting     0.737639    0.041449  0.739722  0.033059"
      ]
     },
     "execution_count": 44,
     "metadata": {},
     "output_type": "execute_result"
    }
   ],
   "source": [
    "y_gb_train_pred = gb_cv.predict(X_train)\n",
    "y_gb_val_pred = gb_cv.predict(X_val)\n",
    "\n",
    "gb_train_mae = mean_absolute_error(y_train, y_nn_train_pred)\n",
    "gb_train_r2 = r2_score(y_train, y_nn_train_pred)\n",
    "\n",
    "gb_val_mae = mean_absolute_error(y_val, y_nn_val_pred)\n",
    "gb_val_r2 = r2_score(y_val, y_nn_val_pred)\n",
    "\n",
    "gb_results = pd.DataFrame(['Gradient Boosting', gb_train_mae, gb_train_r2, gb_val_mae, gb_val_r2]).transpose()\n",
    "gb_results.columns = ['Method', 'Training MAE', 'Training R2', 'Val MAE', 'Val R2']\n",
    "\n",
    "pd.concat([lr_results, rf_results, nn_results, gb_results])"
   ]
  },
  {
   "cell_type": "code",
   "execution_count": null,
   "id": "4cf0de0d",
   "metadata": {},
   "outputs": [],
   "source": []
  }
 ],
 "metadata": {
  "kernelspec": {
   "display_name": "Python 3 (ipykernel)",
   "language": "python",
   "name": "python3"
  },
  "language_info": {
   "codemirror_mode": {
    "name": "ipython",
    "version": 3
   },
   "file_extension": ".py",
   "mimetype": "text/x-python",
   "name": "python",
   "nbconvert_exporter": "python",
   "pygments_lexer": "ipython3",
   "version": "3.9.7"
  }
 },
 "nbformat": 4,
 "nbformat_minor": 5
}
