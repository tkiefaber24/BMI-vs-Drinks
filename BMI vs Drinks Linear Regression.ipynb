{
 "cells": [
  {
   "cell_type": "code",
   "execution_count": 73,
   "id": "12e149c2",
   "metadata": {},
   "outputs": [],
   "source": [
    "import pandas as pd\n",
    "from matplotlib import pyplot as plt\n",
    "import statistics\n",
    "import numpy as np\n",
    "import seaborn as sns\n",
    "import statsmodels.formula.api as sm\n",
    "from statsmodels.compat import lzip\n",
    "import statsmodels.stats.api as sms"
   ]
  },
  {
   "cell_type": "code",
   "execution_count": 1,
   "id": "28bb2d9a",
   "metadata": {},
   "outputs": [
    {
     "name": "stderr",
     "output_type": "stream",
     "text": [
      "C:\\Users\\tkste\\AppData\\Local\\Programs\\Python\\Python310\\lib\\site-packages\\pandas\\io\\sas\\sas_xport.py:475: PerformanceWarning: DataFrame is highly fragmented.  This is usually the result of calling `frame.insert` many times, which has poor performance.  Consider joining all columns at once using pd.concat(axis=1) instead.  To get a de-fragmented frame, use `newframe = frame.copy()`\n",
      "  df[x] = v\n"
     ]
    }
   ],
   "source": [
    "import pandas as pd\n",
    "behav = pd.read_sas(r'C:\\Users\\tkste\\OneDrive\\Documents\\LLCP2019.XPT')"
   ]
  },
  {
   "cell_type": "code",
   "execution_count": 2,
   "id": "49597e2c",
   "metadata": {},
   "outputs": [
    {
     "name": "stdout",
     "output_type": "stream",
     "text": [
      "0    154.0\n",
      "1    108.0\n",
      "2    190.0\n",
      "3    122.0\n",
      "4    110.0\n",
      "5      NaN\n",
      "6    250.0\n",
      "7    240.0\n",
      "8    172.0\n",
      "9     94.0\n",
      "Name: WEIGHT2, dtype: float64\n"
     ]
    }
   ],
   "source": [
    "print(behav['WEIGHT2'].head(10))"
   ]
  },
  {
   "cell_type": "code",
   "execution_count": 3,
   "id": "b7774aab",
   "metadata": {},
   "outputs": [],
   "source": [
    "behav.rename(columns={behav.columns[31]: \"Female\" ,\n",
    "                      behav.columns[88]: \"Avedrnk\",\n",
    "                      behav.columns[274]: \"Age\",\n",
    "                      behav.columns[279]: \"BMI\",\n",
    "                      behav.columns[309]: \"Activ\"}, inplace = True)\n",
    "\n",
    "\n",
    "newbehav = behav[behav[\"Avedrnk\"] < 76]\n",
    "newbehav = newbehav[(newbehav[\"Activ\"] > -1) & (newbehav[\"Activ\"] < 7000)]\n",
    "newbehav = newbehav[(newbehav[\"BMI\"] > 0) & (newbehav[\"BMI\"] < 9999)]\n"
   ]
  },
  {
   "cell_type": "code",
   "execution_count": 4,
   "id": "1d18d342",
   "metadata": {},
   "outputs": [
    {
     "name": "stdout",
     "output_type": "stream",
     "text": [
      "0     NaN\n",
      "1     NaN\n",
      "2     NaN\n",
      "3     NaN\n",
      "4     NaN\n",
      "5     NaN\n",
      "6     1.0\n",
      "7     1.0\n",
      "8     NaN\n",
      "9     NaN\n",
      "10    1.0\n",
      "11    NaN\n",
      "12    NaN\n",
      "13    2.0\n",
      "14    NaN\n",
      "Name: Avedrnk, dtype: float64\n",
      "0     80.0\n",
      "1     70.0\n",
      "2     67.0\n",
      "3     80.0\n",
      "4     80.0\n",
      "5     69.0\n",
      "6     71.0\n",
      "7     72.0\n",
      "8     77.0\n",
      "9     71.0\n",
      "10    70.0\n",
      "11    55.0\n",
      "12    80.0\n",
      "13    76.0\n",
      "14    72.0\n",
      "Name: Age, dtype: float64\n",
      "6     1.0\n",
      "7     1.0\n",
      "10    1.0\n",
      "13    2.0\n",
      "20    1.0\n",
      "22    4.0\n",
      "25    2.0\n",
      "34    2.0\n",
      "37    2.0\n",
      "39    1.0\n",
      "40    2.0\n",
      "45    3.0\n",
      "46    4.0\n",
      "62    1.0\n",
      "63    2.0\n",
      "Name: Avedrnk, dtype: float64\n",
      "6     71.0\n",
      "7     72.0\n",
      "10    70.0\n",
      "13    76.0\n",
      "20    68.0\n",
      "22    68.0\n",
      "25    44.0\n",
      "34    38.0\n",
      "37    70.0\n",
      "39    50.0\n",
      "40    62.0\n",
      "45    53.0\n",
      "46    61.0\n",
      "62    49.0\n",
      "63    78.0\n",
      "Name: Age, dtype: float64\n"
     ]
    }
   ],
   "source": [
    "print(behav['Avedrnk'].head(15))\n",
    "print(behav['Age'].head(15))\n",
    "print(newbehav['Avedrnk'].head(15))\n",
    "print(newbehav['Age'].head(15))"
   ]
  },
  {
   "cell_type": "code",
   "execution_count": 5,
   "id": "12c9df00",
   "metadata": {},
   "outputs": [
    {
     "name": "stdout",
     "output_type": "stream",
     "text": [
      "6     3298.0\n",
      "7     3081.0\n",
      "10    2231.0\n",
      "13    2579.0\n",
      "20    3090.0\n",
      "22    2658.0\n",
      "25    2271.0\n",
      "34    3298.0\n",
      "37    3390.0\n",
      "39    2292.0\n",
      "Name: BMI, dtype: float64\n",
      "6      270.0\n",
      "7      960.0\n",
      "10     468.0\n",
      "13    1920.0\n",
      "20     840.0\n",
      "22     350.0\n",
      "25      60.0\n",
      "34     308.0\n",
      "37     180.0\n",
      "39      92.0\n",
      "Name: Activ, dtype: float64\n"
     ]
    }
   ],
   "source": [
    "print(newbehav['BMI'].head(10))\n",
    "print(newbehav['Activ'].head(10))"
   ]
  },
  {
   "cell_type": "code",
   "execution_count": 6,
   "id": "fc72aae7",
   "metadata": {},
   "outputs": [
    {
     "name": "stdout",
     "output_type": "stream",
     "text": [
      "6     32.98\n",
      "7     30.81\n",
      "10    22.31\n",
      "13    25.79\n",
      "20    30.90\n",
      "22    26.58\n",
      "25    22.71\n",
      "34    32.98\n",
      "37    33.90\n",
      "39    22.92\n",
      "Name: BMI, dtype: float64\n",
      "6      38.57\n",
      "7     137.14\n",
      "10     66.86\n",
      "13    274.29\n",
      "20    120.00\n",
      "22     50.00\n",
      "25      8.57\n",
      "34     44.00\n",
      "37     25.71\n",
      "39     13.14\n",
      "Name: Activ, dtype: float64\n"
     ]
    }
   ],
   "source": [
    "newbehav[\"Activ\"] = newbehav[\"Activ\"]/7\n",
    "newbehav[\"BMI\"] = newbehav[\"BMI\"]/100\n",
    "newbehav[\"Activ\"] = round(newbehav[\"Activ\"], 2)\n",
    "\n",
    "print(newbehav['BMI'].head(10))\n",
    "print(newbehav['Activ'].head(10))"
   ]
  },
  {
   "cell_type": "code",
   "execution_count": 7,
   "id": "539bffc5",
   "metadata": {},
   "outputs": [
    {
     "name": "stdout",
     "output_type": "stream",
     "text": [
      "<class 'pandas.core.series.Series'>\n",
      "<class 'pandas.core.series.Series'>\n",
      "<class 'pandas.core.series.Series'>\n",
      "<class 'pandas.core.series.Series'>\n",
      "<class 'pandas.core.series.Series'>\n"
     ]
    }
   ],
   "source": [
    "print(type(newbehav[\"Female\"]))\n",
    "print(type(newbehav[\"Avedrnk\"]))\n",
    "print(type(newbehav[\"Age\"]))\n",
    "print(type(newbehav[\"Activ\"]))\n",
    "print(type(newbehav[\"BMI\"]))"
   ]
  },
  {
   "cell_type": "code",
   "execution_count": 8,
   "id": "4383609c",
   "metadata": {},
   "outputs": [],
   "source": [
    "newbehav[\"Female\"] = newbehav[\"Female\"].replace(1,0)\n",
    "newbehav[\"Female\"] = newbehav[\"Female\"].replace(2,1)"
   ]
  },
  {
   "cell_type": "code",
   "execution_count": 9,
   "id": "cbf555c8",
   "metadata": {},
   "outputs": [
    {
     "name": "stdout",
     "output_type": "stream",
     "text": [
      "6     0.0\n",
      "7     0.0\n",
      "10    1.0\n",
      "13    0.0\n",
      "20    1.0\n",
      "22    0.0\n",
      "25    1.0\n",
      "34    0.0\n",
      "37    0.0\n",
      "39    1.0\n",
      "Name: Female, dtype: float64\n"
     ]
    }
   ],
   "source": [
    "print(newbehav['Female'].head(10))"
   ]
  },
  {
   "cell_type": "code",
   "execution_count": 10,
   "id": "00df8768",
   "metadata": {},
   "outputs": [
    {
     "name": "stdout",
     "output_type": "stream",
     "text": [
      "    Female  Avedrnk   Age   Activ    BMI\n",
      "6      0.0      1.0  71.0   38.57  32.98\n",
      "7      0.0      1.0  72.0  137.14  30.81\n",
      "10     1.0      1.0  70.0   66.86  22.31\n",
      "13     0.0      2.0  76.0  274.29  25.79\n",
      "20     1.0      1.0  68.0  120.00  30.90\n",
      "22     0.0      4.0  68.0   50.00  26.58\n",
      "25     1.0      2.0  44.0    8.57  22.71\n",
      "34     0.0      2.0  38.0   44.00  32.98\n",
      "37     0.0      2.0  70.0   25.71  33.90\n",
      "39     1.0      1.0  50.0   13.14  22.92\n"
     ]
    }
   ],
   "source": [
    "# Creating a new data set with just these variables\n",
    "subnewbehav = newbehav[[\"Female\",\"Avedrnk\",\"Age\",\"Activ\",\"BMI\"]]\n",
    "print(subnewbehav.head(10))"
   ]
  },
  {
   "cell_type": "code",
   "execution_count": 11,
   "id": "191ecf07",
   "metadata": {},
   "outputs": [
    {
     "data": {
      "text/html": [
       "<div>\n",
       "<style scoped>\n",
       "    .dataframe tbody tr th:only-of-type {\n",
       "        vertical-align: middle;\n",
       "    }\n",
       "\n",
       "    .dataframe tbody tr th {\n",
       "        vertical-align: top;\n",
       "    }\n",
       "\n",
       "    .dataframe thead th {\n",
       "        text-align: right;\n",
       "    }\n",
       "</style>\n",
       "<table border=\"1\" class=\"dataframe\">\n",
       "  <thead>\n",
       "    <tr style=\"text-align: right;\">\n",
       "      <th></th>\n",
       "      <th>Avedrnk</th>\n",
       "      <th>Age</th>\n",
       "      <th>Activ</th>\n",
       "      <th>BMI</th>\n",
       "    </tr>\n",
       "  </thead>\n",
       "  <tbody>\n",
       "    <tr>\n",
       "      <th>count</th>\n",
       "      <td>144455.000000</td>\n",
       "      <td>144455.000000</td>\n",
       "      <td>144455.000000</td>\n",
       "      <td>144455.000000</td>\n",
       "    </tr>\n",
       "    <tr>\n",
       "      <th>mean</th>\n",
       "      <td>2.211194</td>\n",
       "      <td>52.691059</td>\n",
       "      <td>74.555711</td>\n",
       "      <td>27.536042</td>\n",
       "    </tr>\n",
       "    <tr>\n",
       "      <th>std</th>\n",
       "      <td>2.279203</td>\n",
       "      <td>17.451755</td>\n",
       "      <td>104.393932</td>\n",
       "      <td>5.596558</td>\n",
       "    </tr>\n",
       "    <tr>\n",
       "      <th>min</th>\n",
       "      <td>1.000000</td>\n",
       "      <td>18.000000</td>\n",
       "      <td>0.000000</td>\n",
       "      <td>12.050000</td>\n",
       "    </tr>\n",
       "    <tr>\n",
       "      <th>25%</th>\n",
       "      <td>1.000000</td>\n",
       "      <td>38.000000</td>\n",
       "      <td>17.860000</td>\n",
       "      <td>23.710000</td>\n",
       "    </tr>\n",
       "    <tr>\n",
       "      <th>50%</th>\n",
       "      <td>2.000000</td>\n",
       "      <td>55.000000</td>\n",
       "      <td>40.570000</td>\n",
       "      <td>26.610000</td>\n",
       "    </tr>\n",
       "    <tr>\n",
       "      <th>75%</th>\n",
       "      <td>2.000000</td>\n",
       "      <td>67.000000</td>\n",
       "      <td>85.710000</td>\n",
       "      <td>30.300000</td>\n",
       "    </tr>\n",
       "    <tr>\n",
       "      <th>max</th>\n",
       "      <td>72.000000</td>\n",
       "      <td>80.000000</td>\n",
       "      <td>998.570000</td>\n",
       "      <td>98.700000</td>\n",
       "    </tr>\n",
       "  </tbody>\n",
       "</table>\n",
       "</div>"
      ],
      "text/plain": [
       "             Avedrnk            Age          Activ            BMI\n",
       "count  144455.000000  144455.000000  144455.000000  144455.000000\n",
       "mean        2.211194      52.691059      74.555711      27.536042\n",
       "std         2.279203      17.451755     104.393932       5.596558\n",
       "min         1.000000      18.000000       0.000000      12.050000\n",
       "25%         1.000000      38.000000      17.860000      23.710000\n",
       "50%         2.000000      55.000000      40.570000      26.610000\n",
       "75%         2.000000      67.000000      85.710000      30.300000\n",
       "max        72.000000      80.000000     998.570000      98.700000"
      ]
     },
     "execution_count": 11,
     "metadata": {},
     "output_type": "execute_result"
    }
   ],
   "source": [
    "subnewbehav[[\"Avedrnk\",\"Age\",\"Activ\",\"BMI\"]].describe()"
   ]
  },
  {
   "cell_type": "code",
   "execution_count": 12,
   "id": "84b0ddf7",
   "metadata": {},
   "outputs": [
    {
     "data": {
      "text/html": [
       "<div>\n",
       "<style scoped>\n",
       "    .dataframe tbody tr th:only-of-type {\n",
       "        vertical-align: middle;\n",
       "    }\n",
       "\n",
       "    .dataframe tbody tr th {\n",
       "        vertical-align: top;\n",
       "    }\n",
       "\n",
       "    .dataframe thead th {\n",
       "        text-align: right;\n",
       "    }\n",
       "</style>\n",
       "<table border=\"1\" class=\"dataframe\">\n",
       "  <thead>\n",
       "    <tr style=\"text-align: right;\">\n",
       "      <th></th>\n",
       "      <th>Female</th>\n",
       "      <th>0.0</th>\n",
       "      <th>1.0</th>\n",
       "    </tr>\n",
       "  </thead>\n",
       "  <tbody>\n",
       "    <tr>\n",
       "      <th rowspan=\"8\" valign=\"top\">Avedrnk</th>\n",
       "      <th>count</th>\n",
       "      <td>75048.00</td>\n",
       "      <td>69407.00</td>\n",
       "    </tr>\n",
       "    <tr>\n",
       "      <th>mean</th>\n",
       "      <td>2.57</td>\n",
       "      <td>1.82</td>\n",
       "    </tr>\n",
       "    <tr>\n",
       "      <th>std</th>\n",
       "      <td>2.64</td>\n",
       "      <td>1.72</td>\n",
       "    </tr>\n",
       "    <tr>\n",
       "      <th>min</th>\n",
       "      <td>1.00</td>\n",
       "      <td>1.00</td>\n",
       "    </tr>\n",
       "    <tr>\n",
       "      <th>25%</th>\n",
       "      <td>1.00</td>\n",
       "      <td>1.00</td>\n",
       "    </tr>\n",
       "    <tr>\n",
       "      <th>50%</th>\n",
       "      <td>2.00</td>\n",
       "      <td>1.00</td>\n",
       "    </tr>\n",
       "    <tr>\n",
       "      <th>75%</th>\n",
       "      <td>3.00</td>\n",
       "      <td>2.00</td>\n",
       "    </tr>\n",
       "    <tr>\n",
       "      <th>max</th>\n",
       "      <td>72.00</td>\n",
       "      <td>60.00</td>\n",
       "    </tr>\n",
       "    <tr>\n",
       "      <th rowspan=\"8\" valign=\"top\">Age</th>\n",
       "      <th>count</th>\n",
       "      <td>75048.00</td>\n",
       "      <td>69407.00</td>\n",
       "    </tr>\n",
       "    <tr>\n",
       "      <th>mean</th>\n",
       "      <td>52.21</td>\n",
       "      <td>53.21</td>\n",
       "    </tr>\n",
       "    <tr>\n",
       "      <th>std</th>\n",
       "      <td>17.74</td>\n",
       "      <td>17.12</td>\n",
       "    </tr>\n",
       "    <tr>\n",
       "      <th>min</th>\n",
       "      <td>18.00</td>\n",
       "      <td>18.00</td>\n",
       "    </tr>\n",
       "    <tr>\n",
       "      <th>25%</th>\n",
       "      <td>37.00</td>\n",
       "      <td>39.00</td>\n",
       "    </tr>\n",
       "    <tr>\n",
       "      <th>50%</th>\n",
       "      <td>55.00</td>\n",
       "      <td>55.00</td>\n",
       "    </tr>\n",
       "    <tr>\n",
       "      <th>75%</th>\n",
       "      <td>67.00</td>\n",
       "      <td>67.00</td>\n",
       "    </tr>\n",
       "    <tr>\n",
       "      <th>max</th>\n",
       "      <td>80.00</td>\n",
       "      <td>80.00</td>\n",
       "    </tr>\n",
       "    <tr>\n",
       "      <th rowspan=\"8\" valign=\"top\">Activ</th>\n",
       "      <th>count</th>\n",
       "      <td>75048.00</td>\n",
       "      <td>69407.00</td>\n",
       "    </tr>\n",
       "    <tr>\n",
       "      <th>mean</th>\n",
       "      <td>79.76</td>\n",
       "      <td>68.93</td>\n",
       "    </tr>\n",
       "    <tr>\n",
       "      <th>std</th>\n",
       "      <td>111.00</td>\n",
       "      <td>96.43</td>\n",
       "    </tr>\n",
       "    <tr>\n",
       "      <th>min</th>\n",
       "      <td>0.00</td>\n",
       "      <td>0.00</td>\n",
       "    </tr>\n",
       "    <tr>\n",
       "      <th>25%</th>\n",
       "      <td>18.71</td>\n",
       "      <td>17.14</td>\n",
       "    </tr>\n",
       "    <tr>\n",
       "      <th>50%</th>\n",
       "      <td>42.86</td>\n",
       "      <td>38.57</td>\n",
       "    </tr>\n",
       "    <tr>\n",
       "      <th>75%</th>\n",
       "      <td>90.86</td>\n",
       "      <td>77.14</td>\n",
       "    </tr>\n",
       "    <tr>\n",
       "      <th>max</th>\n",
       "      <td>998.57</td>\n",
       "      <td>994.29</td>\n",
       "    </tr>\n",
       "    <tr>\n",
       "      <th rowspan=\"8\" valign=\"top\">BMI</th>\n",
       "      <th>count</th>\n",
       "      <td>75048.00</td>\n",
       "      <td>69407.00</td>\n",
       "    </tr>\n",
       "    <tr>\n",
       "      <th>mean</th>\n",
       "      <td>28.04</td>\n",
       "      <td>26.99</td>\n",
       "    </tr>\n",
       "    <tr>\n",
       "      <th>std</th>\n",
       "      <td>5.15</td>\n",
       "      <td>5.99</td>\n",
       "    </tr>\n",
       "    <tr>\n",
       "      <th>min</th>\n",
       "      <td>12.16</td>\n",
       "      <td>12.05</td>\n",
       "    </tr>\n",
       "    <tr>\n",
       "      <th>25%</th>\n",
       "      <td>24.41</td>\n",
       "      <td>22.80</td>\n",
       "    </tr>\n",
       "    <tr>\n",
       "      <th>50%</th>\n",
       "      <td>27.26</td>\n",
       "      <td>25.79</td>\n",
       "    </tr>\n",
       "    <tr>\n",
       "      <th>75%</th>\n",
       "      <td>30.54</td>\n",
       "      <td>29.95</td>\n",
       "    </tr>\n",
       "    <tr>\n",
       "      <th>max</th>\n",
       "      <td>92.22</td>\n",
       "      <td>98.70</td>\n",
       "    </tr>\n",
       "  </tbody>\n",
       "</table>\n",
       "</div>"
      ],
      "text/plain": [
       "Female              0.0       1.0\n",
       "Avedrnk count  75048.00  69407.00\n",
       "        mean       2.57      1.82\n",
       "        std        2.64      1.72\n",
       "        min        1.00      1.00\n",
       "        25%        1.00      1.00\n",
       "        50%        2.00      1.00\n",
       "        75%        3.00      2.00\n",
       "        max       72.00     60.00\n",
       "Age     count  75048.00  69407.00\n",
       "        mean      52.21     53.21\n",
       "        std       17.74     17.12\n",
       "        min       18.00     18.00\n",
       "        25%       37.00     39.00\n",
       "        50%       55.00     55.00\n",
       "        75%       67.00     67.00\n",
       "        max       80.00     80.00\n",
       "Activ   count  75048.00  69407.00\n",
       "        mean      79.76     68.93\n",
       "        std      111.00     96.43\n",
       "        min        0.00      0.00\n",
       "        25%       18.71     17.14\n",
       "        50%       42.86     38.57\n",
       "        75%       90.86     77.14\n",
       "        max      998.57    994.29\n",
       "BMI     count  75048.00  69407.00\n",
       "        mean      28.04     26.99\n",
       "        std        5.15      5.99\n",
       "        min       12.16     12.05\n",
       "        25%       24.41     22.80\n",
       "        50%       27.26     25.79\n",
       "        75%       30.54     29.95\n",
       "        max       92.22     98.70"
      ]
     },
     "execution_count": 12,
     "metadata": {},
     "output_type": "execute_result"
    }
   ],
   "source": [
    "# If I only wanted specific columns then I would do subnewbehav[[\"variable1\",\"variable2\"]].groupby(\"Female\").describe().T\n",
    "round(subnewbehav.groupby(\"Female\").describe(), 2).T"
   ]
  },
  {
   "cell_type": "code",
   "execution_count": 13,
   "id": "60429305",
   "metadata": {},
   "outputs": [
    {
     "name": "stdout",
     "output_type": "stream",
     "text": [
      "    Gender  Avedrnk   Age   Activ    BMI\n",
      "6      0.0      1.0  71.0   38.57  32.98\n",
      "7      0.0      1.0  72.0  137.14  30.81\n",
      "10     1.0      1.0  70.0   66.86  22.31\n",
      "13     0.0      2.0  76.0  274.29  25.79\n",
      "20     1.0      1.0  68.0  120.00  30.90\n",
      "22     0.0      4.0  68.0   50.00  26.58\n",
      "25     1.0      2.0  44.0    8.57  22.71\n",
      "34     0.0      2.0  38.0   44.00  32.98\n",
      "37     0.0      2.0  70.0   25.71  33.90\n",
      "39     1.0      1.0  50.0   13.14  22.92\n",
      "    Gender  Avedrnk   Age   Activ    BMI\n",
      "6     Male      1.0  71.0   38.57  32.98\n",
      "7     Male      1.0  72.0  137.14  30.81\n",
      "10  Female      1.0  70.0   66.86  22.31\n",
      "13    Male      2.0  76.0  274.29  25.79\n",
      "20  Female      1.0  68.0  120.00  30.90\n",
      "22    Male      4.0  68.0   50.00  26.58\n",
      "25  Female      2.0  44.0    8.57  22.71\n",
      "34    Male      2.0  38.0   44.00  32.98\n",
      "37    Male      2.0  70.0   25.71  33.90\n",
      "39  Female      1.0  50.0   13.14  22.92\n"
     ]
    },
    {
     "name": "stderr",
     "output_type": "stream",
     "text": [
      "C:\\Users\\tkste\\AppData\\Local\\Programs\\Python\\Python310\\lib\\site-packages\\pandas\\core\\frame.py:5039: SettingWithCopyWarning: \n",
      "A value is trying to be set on a copy of a slice from a DataFrame\n",
      "\n",
      "See the caveats in the documentation: https://pandas.pydata.org/pandas-docs/stable/user_guide/indexing.html#returning-a-view-versus-a-copy\n",
      "  return super().rename(\n",
      "C:\\Users\\tkste\\AppData\\Local\\Temp/ipykernel_14688/3903042883.py:8: SettingWithCopyWarning: \n",
      "A value is trying to be set on a copy of a slice from a DataFrame.\n",
      "Try using .loc[row_indexer,col_indexer] = value instead\n",
      "\n",
      "See the caveats in the documentation: https://pandas.pydata.org/pandas-docs/stable/user_guide/indexing.html#returning-a-view-versus-a-copy\n",
      "  subnewbehav2[\"Gender\"] = subnewbehav2[\"Gender\"].replace(0,\"Male\")\n",
      "C:\\Users\\tkste\\AppData\\Local\\Temp/ipykernel_14688/3903042883.py:9: SettingWithCopyWarning: \n",
      "A value is trying to be set on a copy of a slice from a DataFrame.\n",
      "Try using .loc[row_indexer,col_indexer] = value instead\n",
      "\n",
      "See the caveats in the documentation: https://pandas.pydata.org/pandas-docs/stable/user_guide/indexing.html#returning-a-view-versus-a-copy\n",
      "  subnewbehav2[\"Gender\"] = subnewbehav2[\"Gender\"].replace(1,\"Female\")\n"
     ]
    }
   ],
   "source": [
    "# Here, zero is male and 1 is female\n",
    "# We created a new data frame and then renamed the column Female and changed 0 to Male and 1 to Female\n",
    "# This way, we have better column titles than the ones in the previous table which are 0 and 1\n",
    "subnewbehav2 = subnewbehav\n",
    "subnewbehav2.rename(columns = {subnewbehav2.columns[0]: \"Gender\"}, inplace = True)\n",
    "print(subnewbehav2.head(10))\n",
    "\n",
    "subnewbehav2[\"Gender\"] = subnewbehav2[\"Gender\"].replace(0,\"Male\")\n",
    "subnewbehav2[\"Gender\"] = subnewbehav2[\"Gender\"].replace(1,\"Female\")\n",
    "print(subnewbehav2.head(10))"
   ]
  },
  {
   "cell_type": "code",
   "execution_count": 14,
   "id": "47003d06",
   "metadata": {},
   "outputs": [
    {
     "data": {
      "text/html": [
       "<div>\n",
       "<style scoped>\n",
       "    .dataframe tbody tr th:only-of-type {\n",
       "        vertical-align: middle;\n",
       "    }\n",
       "\n",
       "    .dataframe tbody tr th {\n",
       "        vertical-align: top;\n",
       "    }\n",
       "\n",
       "    .dataframe thead th {\n",
       "        text-align: right;\n",
       "    }\n",
       "</style>\n",
       "<table border=\"1\" class=\"dataframe\">\n",
       "  <thead>\n",
       "    <tr style=\"text-align: right;\">\n",
       "      <th></th>\n",
       "      <th>Gender</th>\n",
       "      <th>Female</th>\n",
       "      <th>Male</th>\n",
       "    </tr>\n",
       "  </thead>\n",
       "  <tbody>\n",
       "    <tr>\n",
       "      <th rowspan=\"8\" valign=\"top\">Avedrnk</th>\n",
       "      <th>count</th>\n",
       "      <td>69407.00</td>\n",
       "      <td>75048.00</td>\n",
       "    </tr>\n",
       "    <tr>\n",
       "      <th>mean</th>\n",
       "      <td>1.82</td>\n",
       "      <td>2.57</td>\n",
       "    </tr>\n",
       "    <tr>\n",
       "      <th>std</th>\n",
       "      <td>1.72</td>\n",
       "      <td>2.64</td>\n",
       "    </tr>\n",
       "    <tr>\n",
       "      <th>min</th>\n",
       "      <td>1.00</td>\n",
       "      <td>1.00</td>\n",
       "    </tr>\n",
       "    <tr>\n",
       "      <th>25%</th>\n",
       "      <td>1.00</td>\n",
       "      <td>1.00</td>\n",
       "    </tr>\n",
       "    <tr>\n",
       "      <th>50%</th>\n",
       "      <td>1.00</td>\n",
       "      <td>2.00</td>\n",
       "    </tr>\n",
       "    <tr>\n",
       "      <th>75%</th>\n",
       "      <td>2.00</td>\n",
       "      <td>3.00</td>\n",
       "    </tr>\n",
       "    <tr>\n",
       "      <th>max</th>\n",
       "      <td>60.00</td>\n",
       "      <td>72.00</td>\n",
       "    </tr>\n",
       "    <tr>\n",
       "      <th rowspan=\"8\" valign=\"top\">Age</th>\n",
       "      <th>count</th>\n",
       "      <td>69407.00</td>\n",
       "      <td>75048.00</td>\n",
       "    </tr>\n",
       "    <tr>\n",
       "      <th>mean</th>\n",
       "      <td>53.21</td>\n",
       "      <td>52.21</td>\n",
       "    </tr>\n",
       "    <tr>\n",
       "      <th>std</th>\n",
       "      <td>17.12</td>\n",
       "      <td>17.74</td>\n",
       "    </tr>\n",
       "    <tr>\n",
       "      <th>min</th>\n",
       "      <td>18.00</td>\n",
       "      <td>18.00</td>\n",
       "    </tr>\n",
       "    <tr>\n",
       "      <th>25%</th>\n",
       "      <td>39.00</td>\n",
       "      <td>37.00</td>\n",
       "    </tr>\n",
       "    <tr>\n",
       "      <th>50%</th>\n",
       "      <td>55.00</td>\n",
       "      <td>55.00</td>\n",
       "    </tr>\n",
       "    <tr>\n",
       "      <th>75%</th>\n",
       "      <td>67.00</td>\n",
       "      <td>67.00</td>\n",
       "    </tr>\n",
       "    <tr>\n",
       "      <th>max</th>\n",
       "      <td>80.00</td>\n",
       "      <td>80.00</td>\n",
       "    </tr>\n",
       "    <tr>\n",
       "      <th rowspan=\"8\" valign=\"top\">Activ</th>\n",
       "      <th>count</th>\n",
       "      <td>69407.00</td>\n",
       "      <td>75048.00</td>\n",
       "    </tr>\n",
       "    <tr>\n",
       "      <th>mean</th>\n",
       "      <td>68.93</td>\n",
       "      <td>79.76</td>\n",
       "    </tr>\n",
       "    <tr>\n",
       "      <th>std</th>\n",
       "      <td>96.43</td>\n",
       "      <td>111.00</td>\n",
       "    </tr>\n",
       "    <tr>\n",
       "      <th>min</th>\n",
       "      <td>0.00</td>\n",
       "      <td>0.00</td>\n",
       "    </tr>\n",
       "    <tr>\n",
       "      <th>25%</th>\n",
       "      <td>17.14</td>\n",
       "      <td>18.71</td>\n",
       "    </tr>\n",
       "    <tr>\n",
       "      <th>50%</th>\n",
       "      <td>38.57</td>\n",
       "      <td>42.86</td>\n",
       "    </tr>\n",
       "    <tr>\n",
       "      <th>75%</th>\n",
       "      <td>77.14</td>\n",
       "      <td>90.86</td>\n",
       "    </tr>\n",
       "    <tr>\n",
       "      <th>max</th>\n",
       "      <td>994.29</td>\n",
       "      <td>998.57</td>\n",
       "    </tr>\n",
       "    <tr>\n",
       "      <th rowspan=\"8\" valign=\"top\">BMI</th>\n",
       "      <th>count</th>\n",
       "      <td>69407.00</td>\n",
       "      <td>75048.00</td>\n",
       "    </tr>\n",
       "    <tr>\n",
       "      <th>mean</th>\n",
       "      <td>26.99</td>\n",
       "      <td>28.04</td>\n",
       "    </tr>\n",
       "    <tr>\n",
       "      <th>std</th>\n",
       "      <td>5.99</td>\n",
       "      <td>5.15</td>\n",
       "    </tr>\n",
       "    <tr>\n",
       "      <th>min</th>\n",
       "      <td>12.05</td>\n",
       "      <td>12.16</td>\n",
       "    </tr>\n",
       "    <tr>\n",
       "      <th>25%</th>\n",
       "      <td>22.80</td>\n",
       "      <td>24.41</td>\n",
       "    </tr>\n",
       "    <tr>\n",
       "      <th>50%</th>\n",
       "      <td>25.79</td>\n",
       "      <td>27.26</td>\n",
       "    </tr>\n",
       "    <tr>\n",
       "      <th>75%</th>\n",
       "      <td>29.95</td>\n",
       "      <td>30.54</td>\n",
       "    </tr>\n",
       "    <tr>\n",
       "      <th>max</th>\n",
       "      <td>98.70</td>\n",
       "      <td>92.22</td>\n",
       "    </tr>\n",
       "  </tbody>\n",
       "</table>\n",
       "</div>"
      ],
      "text/plain": [
       "Gender           Female      Male\n",
       "Avedrnk count  69407.00  75048.00\n",
       "        mean       1.82      2.57\n",
       "        std        1.72      2.64\n",
       "        min        1.00      1.00\n",
       "        25%        1.00      1.00\n",
       "        50%        1.00      2.00\n",
       "        75%        2.00      3.00\n",
       "        max       60.00     72.00\n",
       "Age     count  69407.00  75048.00\n",
       "        mean      53.21     52.21\n",
       "        std       17.12     17.74\n",
       "        min       18.00     18.00\n",
       "        25%       39.00     37.00\n",
       "        50%       55.00     55.00\n",
       "        75%       67.00     67.00\n",
       "        max       80.00     80.00\n",
       "Activ   count  69407.00  75048.00\n",
       "        mean      68.93     79.76\n",
       "        std       96.43    111.00\n",
       "        min        0.00      0.00\n",
       "        25%       17.14     18.71\n",
       "        50%       38.57     42.86\n",
       "        75%       77.14     90.86\n",
       "        max      994.29    998.57\n",
       "BMI     count  69407.00  75048.00\n",
       "        mean      26.99     28.04\n",
       "        std        5.99      5.15\n",
       "        min       12.05     12.16\n",
       "        25%       22.80     24.41\n",
       "        50%       25.79     27.26\n",
       "        75%       29.95     30.54\n",
       "        max       98.70     92.22"
      ]
     },
     "execution_count": 14,
     "metadata": {},
     "output_type": "execute_result"
    }
   ],
   "source": [
    "round(subnewbehav2.groupby(\"Gender\").describe(), 2).T"
   ]
  },
  {
   "cell_type": "code",
   "execution_count": 15,
   "id": "cd587356",
   "metadata": {},
   "outputs": [
    {
     "data": {
      "text/plain": [
       "Text(0, 0.5, 'Count of BMI')"
      ]
     },
     "execution_count": 15,
     "metadata": {},
     "output_type": "execute_result"
    },
    {
     "data": {
      "image/png": "[encoded data removed]",
      "text/plain": [
       "<Figure size 432x288 with 1 Axes>"
      ]
     },
     "metadata": {
      "needs_background": "light"
     },
     "output_type": "display_data"
    }
   ],
   "source": [
    "from matplotlib import pyplot as plt\n",
    "\n",
    "plt.hist(subnewbehav[\"BMI\"], color = 'dodgerblue', edgecolor = 'black',\n",
    "         bins = int(25))\n",
    "\n",
    "plt.title('BMI Distribution')\n",
    "plt.xlabel('BMI')\n",
    "plt.ylabel('Count of BMI')"
   ]
  },
  {
   "cell_type": "code",
   "execution_count": 16,
   "id": "3b91c392",
   "metadata": {},
   "outputs": [
    {
     "data": {
      "text/plain": [
       "Text(0, 0.5, 'Count of Average Drinks')"
      ]
     },
     "execution_count": 16,
     "metadata": {},
     "output_type": "execute_result"
    },
    {
     "data": {
      "image/png": "[encoded data removed]",
      "text/plain": [
       "<Figure size 432x288 with 1 Axes>"
      ]
     },
     "metadata": {
      "needs_background": "light"
     },
     "output_type": "display_data"
    }
   ],
   "source": [
    "plt.hist(subnewbehav[\"Avedrnk\"], color = 'dodgerblue', edgecolor = 'black',\n",
    "         bins = int(45))\n",
    "\n",
    "plt.title('Average Drinks a Day Distribution')\n",
    "plt.xlabel('Average Drinks a Day')\n",
    "plt.ylabel('Count of Average Drinks')"
   ]
  },
  {
   "cell_type": "code",
   "execution_count": 17,
   "id": "8b346cbe",
   "metadata": {},
   "outputs": [
    {
     "data": {
      "text/plain": [
       "Text(0, 0.5, 'Count of Average Drinks')"
      ]
     },
     "execution_count": 17,
     "metadata": {},
     "output_type": "execute_result"
    },
    {
     "data": {
      "image/png": "[encoded data removed]",
      "text/plain": [
       "<Figure size 432x288 with 1 Axes>"
      ]
     },
     "metadata": {
      "needs_background": "light"
     },
     "output_type": "display_data"
    }
   ],
   "source": [
    "# Here we are limiting the x-axis to show the variation in average drinks a bit more clearly\n",
    "# However, this is excluding the values that are present at the 25 and above mark so you should never just include this histogram\n",
    "# This is more just to show how to use the plt.xlim function\n",
    "\n",
    "plt.hist(subnewbehav[\"Avedrnk\"], color = 'dodgerblue', edgecolor = 'black',\n",
    "         bins = int(50))\n",
    "\n",
    "plt.xlim(0,25)\n",
    "plt.title('Average Drinks a Day Distribution')\n",
    "plt.xlabel('Average Drinks a Day')\n",
    "plt.ylabel('Count of Average Drinks')"
   ]
  },
  {
   "cell_type": "code",
   "execution_count": 18,
   "id": "d1dc36de",
   "metadata": {},
   "outputs": [
    {
     "data": {
      "text/plain": [
       "Text(0, 0.5, 'Count of Age')"
      ]
     },
     "execution_count": 18,
     "metadata": {},
     "output_type": "execute_result"
    },
    {
     "data": {
      "image/png": "[encoded data removed]",
      "text/plain": [
       "<Figure size 432x288 with 1 Axes>"
      ]
     },
     "metadata": {
      "needs_background": "light"
     },
     "output_type": "display_data"
    }
   ],
   "source": [
    "plt.hist(subnewbehav[\"Age\"], color = 'dodgerblue', edgecolor = 'black',\n",
    "         bins = int(35))\n",
    "\n",
    "plt.title('Age Distribution')\n",
    "plt.xlabel('Age')\n",
    "plt.ylabel('Count of Age')"
   ]
  },
  {
   "cell_type": "code",
   "execution_count": 19,
   "id": "f13b15a8",
   "metadata": {},
   "outputs": [
    {
     "data": {
      "text/plain": [
       "Text(0, 0.5, 'Count of Activity')"
      ]
     },
     "execution_count": 19,
     "metadata": {},
     "output_type": "execute_result"
    },
    {
     "data": {
      "image/png": "[encoded data removed]",
      "text/plain": [
       "<Figure size 432x288 with 1 Axes>"
      ]
     },
     "metadata": {
      "needs_background": "light"
     },
     "output_type": "display_data"
    }
   ],
   "source": [
    "plt.hist(subnewbehav[\"Activ\"], color = 'dodgerblue', edgecolor = 'black',\n",
    "         bins = int(45))\n",
    "\n",
    "plt.title('Activity Distribution')\n",
    "plt.xlabel('Activity level')\n",
    "plt.ylabel('Count of Activity')"
   ]
  },
  {
   "cell_type": "code",
   "execution_count": 20,
   "id": "ce8d6d2a",
   "metadata": {},
   "outputs": [
    {
     "name": "stdout",
     "output_type": "stream",
     "text": [
      "the numbers greater than 800 in Activ : 296\n",
      "the percent greater than 800 in Activ : 0.002049081028694057%\n"
     ]
    }
   ],
   "source": [
    "# This output tells us how many numbers are greater than 800 in the activ variable\n",
    "k = 800\n",
    "count = 0\n",
    "for i in subnewbehav[\"Activ\"] : \n",
    "    if i > k :\n",
    "        count = count + 1\n",
    "\n",
    "print(\"the numbers greater than 800 in Activ : \" + str(count))\n",
    "print(\"the percent greater than 800 in Activ : \" + str(count/144455) + \"%\")\n",
    "# 144455 is the amount of observations in the subnewbehav data set"
   ]
  },
  {
   "cell_type": "code",
   "execution_count": 21,
   "id": "7cbcfee1",
   "metadata": {},
   "outputs": [
    {
     "name": "stdout",
     "output_type": "stream",
     "text": [
      "Mean of Activ is : 74.55571070575611\n",
      "Mean of Activ is : 74.5557107057561\n"
     ]
    }
   ],
   "source": [
    "# This just shows us the mean of the activ variable, not needed but good practice\n",
    "import statistics\n",
    "\n",
    "print(\"Mean of Activ is :\", statistics.mean(subnewbehav[\"Activ\"]))\n",
    "\n",
    "# This shows us the mean of the activ variable if we had nan's in the variable\n",
    "# Since we don't have any nan's its good we got the same number\n",
    "import numpy as np\n",
    "\n",
    "print(\"Mean of Activ is :\", np.nanmean(subnewbehav[\"Activ\"]))"
   ]
  },
  {
   "cell_type": "code",
   "execution_count": 22,
   "id": "6f90d58a",
   "metadata": {},
   "outputs": [
    {
     "data": {
      "text/plain": [
       "Text(0, 0.5, 'BMI')"
      ]
     },
     "execution_count": 22,
     "metadata": {},
     "output_type": "execute_result"
    },
    {
     "data": {
      "image/png": "[encoded data removed]",
      "text/plain": [
       "<Figure size 432x288 with 1 Axes>"
      ]
     },
     "metadata": {
      "needs_background": "light"
     },
     "output_type": "display_data"
    }
   ],
   "source": [
    "plt.scatter(subnewbehav[\"Avedrnk\"], subnewbehav[\"BMI\"], alpha = 1, s = 15)\n",
    "\n",
    "plt.title('Scatterplot of Average Drinks and BMI')\n",
    "plt.xlabel('Average drinks per day')\n",
    "plt.ylabel('BMI')\n",
    "\n",
    "# Still need to add a regression line to this"
   ]
  },
  {
   "cell_type": "code",
   "execution_count": 23,
   "id": "9de1c287",
   "metadata": {},
   "outputs": [
    {
     "data": {
      "text/plain": [
       "Text(0, 0.5, 'BMI')"
      ]
     },
     "execution_count": 23,
     "metadata": {},
     "output_type": "execute_result"
    },
    {
     "data": {
      "image/png": "[encoded data removed]",
      "text/plain": [
       "<Figure size 432x288 with 1 Axes>"
      ]
     },
     "metadata": {
      "needs_background": "light"
     },
     "output_type": "display_data"
    }
   ],
   "source": [
    "# This creates a scatterplot of these two variables but also adds a regression line automatically\n",
    "\n",
    "import seaborn as sns\n",
    "\n",
    "sns.regplot(x = subnewbehav['Avedrnk'], y = subnewbehav['BMI'])\n",
    "\n",
    "plt.title('Scatterplot of Average Drinks and BMI')\n",
    "plt.xlabel('Average drinks per day')\n",
    "plt.ylabel('BMI')"
   ]
  },
  {
   "cell_type": "code",
   "execution_count": 26,
   "id": "9a62a20e",
   "metadata": {},
   "outputs": [
    {
     "name": "stdout",
     "output_type": "stream",
     "text": [
      "    Gender    BMI\n",
      "6     Male  32.98\n",
      "7     Male  30.81\n",
      "10  Female  22.31\n",
      "13    Male  25.79\n",
      "20  Female  30.90\n",
      "22    Male  26.58\n",
      "25  Female  22.71\n",
      "34    Male  32.98\n",
      "37    Male  33.90\n",
      "39  Female  22.92\n",
      "Gender  Female   Male\n",
      "6          NaN  32.98\n",
      "7          NaN  30.81\n",
      "10       22.31    NaN\n",
      "13         NaN  25.79\n",
      "20       30.90    NaN\n",
      "22         NaN  26.58\n",
      "25       22.71    NaN\n",
      "34         NaN  32.98\n",
      "37         NaN  33.90\n",
      "39       22.92    NaN\n"
     ]
    }
   ],
   "source": [
    "# Rearrangning the data so I can make an overlapping density plot\n",
    "\n",
    "den_data = subnewbehav[[\"Gender\",\"BMI\"]]\n",
    "print(den_data.head(10))\n",
    "\n",
    "# This transforms the data into a wide format so I can use it in a density plot\n",
    "\n",
    "den_data = den_data.pivot(columns = 'Gender', values = 'BMI')\n",
    "print(den_data.head(10))"
   ]
  },
  {
   "cell_type": "code",
   "execution_count": 29,
   "id": "be147e93",
   "metadata": {},
   "outputs": [
    {
     "data": {
      "text/plain": [
       "Text(0.5, 0, 'BMI')"
      ]
     },
     "execution_count": 29,
     "metadata": {},
     "output_type": "execute_result"
    },
    {
     "data": {
      "image/png": "[encoded data removed]",
      "text/plain": [
       "<Figure size 504x504 with 1 Axes>"
      ]
     },
     "metadata": {
      "needs_background": "light"
     },
     "output_type": "display_data"
    }
   ],
   "source": [
    "# Creating an overlapping density plot\n",
    "\n",
    "den_data.plot.density(figsize = (7, 7), linewidth = 3)\n",
    "\n",
    "plt.xlabel(\"BMI\")"
   ]
  },
  {
   "cell_type": "code",
   "execution_count": 32,
   "id": "1837c402",
   "metadata": {},
   "outputs": [
    {
     "data": {
      "text/html": [
       "<div>\n",
       "<style scoped>\n",
       "    .dataframe tbody tr th:only-of-type {\n",
       "        vertical-align: middle;\n",
       "    }\n",
       "\n",
       "    .dataframe tbody tr th {\n",
       "        vertical-align: top;\n",
       "    }\n",
       "\n",
       "    .dataframe thead th {\n",
       "        text-align: right;\n",
       "    }\n",
       "</style>\n",
       "<table border=\"1\" class=\"dataframe\">\n",
       "  <thead>\n",
       "    <tr style=\"text-align: right;\">\n",
       "      <th>Gender</th>\n",
       "      <th>Female</th>\n",
       "      <th>Male</th>\n",
       "    </tr>\n",
       "  </thead>\n",
       "  <tbody>\n",
       "    <tr>\n",
       "      <th>count</th>\n",
       "      <td>69407.00</td>\n",
       "      <td>75048.00</td>\n",
       "    </tr>\n",
       "    <tr>\n",
       "      <th>mean</th>\n",
       "      <td>26.99</td>\n",
       "      <td>28.04</td>\n",
       "    </tr>\n",
       "    <tr>\n",
       "      <th>std</th>\n",
       "      <td>5.99</td>\n",
       "      <td>5.15</td>\n",
       "    </tr>\n",
       "    <tr>\n",
       "      <th>min</th>\n",
       "      <td>12.05</td>\n",
       "      <td>12.16</td>\n",
       "    </tr>\n",
       "    <tr>\n",
       "      <th>25%</th>\n",
       "      <td>22.80</td>\n",
       "      <td>24.41</td>\n",
       "    </tr>\n",
       "    <tr>\n",
       "      <th>50%</th>\n",
       "      <td>25.79</td>\n",
       "      <td>27.26</td>\n",
       "    </tr>\n",
       "    <tr>\n",
       "      <th>75%</th>\n",
       "      <td>29.95</td>\n",
       "      <td>30.54</td>\n",
       "    </tr>\n",
       "    <tr>\n",
       "      <th>max</th>\n",
       "      <td>98.70</td>\n",
       "      <td>92.22</td>\n",
       "    </tr>\n",
       "  </tbody>\n",
       "</table>\n",
       "</div>"
      ],
      "text/plain": [
       "Gender    Female      Male\n",
       "count   69407.00  75048.00\n",
       "mean       26.99     28.04\n",
       "std         5.99      5.15\n",
       "min        12.05     12.16\n",
       "25%        22.80     24.41\n",
       "50%        25.79     27.26\n",
       "75%        29.95     30.54\n",
       "max        98.70     92.22"
      ]
     },
     "execution_count": 32,
     "metadata": {},
     "output_type": "execute_result"
    }
   ],
   "source": [
    "# Ensuring that the data is the same as before even after transposing it\n",
    "# I wasn't sure it was the same because the overlapping density plot had larger x-values than the data had\n",
    "# However, the data is the same so I will limit the x-axis in the next plot\n",
    "\n",
    "round(den_data.describe(), 2)"
   ]
  },
  {
   "cell_type": "code",
   "execution_count": 34,
   "id": "28655f2a",
   "metadata": {},
   "outputs": [
    {
     "data": {
      "text/plain": [
       "Text(0.5, 1.0, 'Overlapping density plot of Gender and BMI')"
      ]
     },
     "execution_count": 34,
     "metadata": {},
     "output_type": "execute_result"
    },
    {
     "data": {
      "image/png": "[encoded data removed]",
      "text/plain": [
       "<Figure size 504x504 with 1 Axes>"
      ]
     },
     "metadata": {
      "needs_background": "light"
     },
     "output_type": "display_data"
    }
   ],
   "source": [
    "# Creating an overlapping density plot and limiting the x-axis\n",
    "\n",
    "den_data.plot.density(figsize = (7, 7), linewidth = 3)\n",
    "\n",
    "plt.xlim(0,100)\n",
    "plt.xlabel(\"BMI\")\n",
    "plt.title(\"Overlapping density plot of Gender and BMI\")"
   ]
  },
  {
   "cell_type": "code",
   "execution_count": 38,
   "id": "7adc6ef3",
   "metadata": {},
   "outputs": [
    {
     "data": {
      "text/plain": [
       "Text(0.5, 6.79999999999999, 'BMI')"
      ]
     },
     "execution_count": 38,
     "metadata": {},
     "output_type": "execute_result"
    },
    {
     "data": {
      "image/png": "[encoded data removed]",
      "text/plain": [
       "<Figure size 432.125x360 with 1 Axes>"
      ]
     },
     "metadata": {
      "needs_background": "light"
     },
     "output_type": "display_data"
    }
   ],
   "source": [
    "sns.displot(den_data, kind = \"kde\")\n",
    "\n",
    "plt.xlabel('BMI')"
   ]
  },
  {
   "cell_type": "code",
   "execution_count": 40,
   "id": "57bdd3b4",
   "metadata": {},
   "outputs": [
    {
     "name": "stdout",
     "output_type": "stream",
     "text": [
      "          Avedrnk       Age     Activ       BMI\n",
      "Avedrnk  1.000000 -0.210073  0.015560  0.048817\n",
      "Age     -0.210073  1.000000  0.173526 -0.008785\n",
      "Activ    0.015560  0.173526  1.000000 -0.057337\n",
      "BMI      0.048817 -0.008785 -0.057337  1.000000\n"
     ]
    }
   ],
   "source": [
    "# Creating a correlation matrix\n",
    "\n",
    "coeffmatrix = subnewbehav.corr()\n",
    "print(coeffmatrix)"
   ]
  },
  {
   "cell_type": "code",
   "execution_count": 42,
   "id": "3e1827e3",
   "metadata": {},
   "outputs": [
    {
     "data": {
      "image/png": "[encoded data removed]",
      "text/plain": [
       "<Figure size 432x288 with 2 Axes>"
      ]
     },
     "metadata": {
      "needs_background": "light"
     },
     "output_type": "display_data"
    }
   ],
   "source": [
    "# Creating a heatmap of the data\n",
    "\n",
    "sns.heatmap(coeffmatrix, annot = True)\n",
    "\n",
    "plt.title(\"Correlation matrix\")\n",
    "plt.show()"
   ]
  },
  {
   "cell_type": "code",
   "execution_count": 52,
   "id": "3b43b81f",
   "metadata": {},
   "outputs": [
    {
     "name": "stdout",
     "output_type": "stream",
     "text": [
      "                            OLS Regression Results                            \n",
      "==============================================================================\n",
      "Dep. Variable:                    BMI   R-squared:                       0.014\n",
      "Model:                            OLS   Adj. R-squared:                  0.014\n",
      "Method:                 Least Squares   F-statistic:                     515.0\n",
      "Date:                Wed, 19 Jan 2022   Prob (F-statistic):               0.00\n",
      "Time:                        18:42:52   Log-Likelihood:            -4.5272e+05\n",
      "No. Observations:              144455   AIC:                         9.055e+05\n",
      "Df Residuals:                  144450   BIC:                         9.055e+05\n",
      "Df Model:                           4                                         \n",
      "Covariance Type:            nonrobust                                         \n",
      "==================================================================================\n",
      "                     coef    std err          t      P>|t|      [0.025      0.975]\n",
      "----------------------------------------------------------------------------------\n",
      "Intercept         26.8385      0.054    498.170      0.000      26.733      26.944\n",
      "Gender[T.Male]     1.0265      0.030     34.562      0.000       0.968       1.085\n",
      "Avedrnk            0.0923      0.007     13.874      0.000       0.079       0.105\n",
      "Age                0.0042      0.001      4.784      0.000       0.002       0.006\n",
      "Activ             -0.0035      0.000    -24.409      0.000      -0.004      -0.003\n",
      "==============================================================================\n",
      "Omnibus:                    41303.357   Durbin-Watson:                   1.967\n",
      "Prob(Omnibus):                  0.000   Jarque-Bera (JB):           167567.247\n",
      "Skew:                           1.372   Prob(JB):                         0.00\n",
      "Kurtosis:                       7.507   Cond. No.                         496.\n",
      "==============================================================================\n",
      "\n",
      "Notes:\n",
      "[1] Standard Errors assume that the covariance matrix of the errors is correctly specified.\n"
     ]
    }
   ],
   "source": [
    "# Running the regression\n",
    "\n",
    "import statsmodels.formula.api as sm\n",
    "\n",
    "reg1 = sm.ols(formula = \"BMI ~ Avedrnk + Age + Activ + Gender\", data = subnewbehav).fit()\n",
    "print(reg1.summary())"
   ]
  },
  {
   "cell_type": "code",
   "execution_count": 61,
   "id": "2aabee97",
   "metadata": {},
   "outputs": [
    {
     "data": {
      "text/plain": [
       "<AxesSubplot:xlabel='Avedrnk', ylabel='BMI'>"
      ]
     },
     "execution_count": 61,
     "metadata": {},
     "output_type": "execute_result"
    },
    {
     "data": {
      "image/png": "[encoded data removed]",
      "text/plain": [
       "<Figure size 432x288 with 1 Axes>"
      ]
     },
     "metadata": {
      "needs_background": "light"
     },
     "output_type": "display_data"
    }
   ],
   "source": [
    "# Creating regression plots\n",
    "# Trying to create a residuals vs. fitted plot but it isnt really working\n",
    "# It's much easier to do in R\n",
    "\n",
    "# This just compares BMI and Avedrnk\n",
    "sns.residplot(y = subnewbehav.loc[:,[\"BMI\"]], x = subnewbehav.loc[:,['Avedrnk']])"
   ]
  },
  {
   "cell_type": "code",
   "execution_count": 64,
   "id": "5faff767",
   "metadata": {},
   "outputs": [
    {
     "name": "stdout",
     "output_type": "stream",
     "text": [
      "6        low\n",
      "7        low\n",
      "10       low\n",
      "13       low\n",
      "20       low\n",
      "22    medium\n",
      "25       low\n",
      "34       low\n",
      "37       low\n",
      "39       low\n",
      "40       low\n",
      "45    medium\n",
      "46    medium\n",
      "62       low\n",
      "63       low\n",
      "65    medium\n",
      "76       low\n",
      "80       low\n",
      "88      high\n",
      "89       low\n",
      "Name: Avedrnk2, dtype: category\n",
      "Categories (3, object): ['low' < 'medium' < 'high']\n"
     ]
    },
    {
     "name": "stderr",
     "output_type": "stream",
     "text": [
      "C:\\Users\\tkste\\AppData\\Local\\Temp/ipykernel_14688/3374974271.py:10: SettingWithCopyWarning: \n",
      "A value is trying to be set on a copy of a slice from a DataFrame.\n",
      "Try using .loc[row_indexer,col_indexer] = value instead\n",
      "\n",
      "See the caveats in the documentation: https://pandas.pydata.org/pandas-docs/stable/user_guide/indexing.html#returning-a-view-versus-a-copy\n",
      "  subnewbehav3['Avedrnk2'] = pd.cut(subnewbehav3['Avedrnk'], bins=[0, 2, 4, float('Inf')], labels=['low', 'medium', 'high'])\n"
     ]
    }
   ],
   "source": [
    "# Creating a grouped Average Drink variable\n",
    "subnewbehav3 = subnewbehav\n",
    "subnewbehav3['Avedrnk2'] = pd.cut(subnewbehav3['Avedrnk'], bins=[0, 2, 4, float('Inf')], labels=['low', 'medium', 'high'])\n",
    "print(subnewbehav3['Avedrnk2'].head(20))"
   ]
  },
  {
   "cell_type": "code",
   "execution_count": 68,
   "id": "d9db5d55",
   "metadata": {},
   "outputs": [
    {
     "name": "stdout",
     "output_type": "stream",
     "text": [
      "    Gender Avedrnk2   Age   Activ    BMI\n",
      "6     Male      low  71.0   38.57  32.98\n",
      "7     Male      low  72.0  137.14  30.81\n",
      "10  Female      low  70.0   66.86  22.31\n",
      "13    Male      low  76.0  274.29  25.79\n",
      "20  Female      low  68.0  120.00  30.90\n",
      "22    Male   medium  68.0   50.00  26.58\n",
      "25  Female      low  44.0    8.57  22.71\n",
      "34    Male      low  38.0   44.00  32.98\n",
      "37    Male      low  70.0   25.71  33.90\n",
      "39  Female      low  50.0   13.14  22.92\n",
      "    Gender Avedrnk   Age   Activ    BMI\n",
      "6     Male     low  71.0   38.57  32.98\n",
      "7     Male     low  72.0  137.14  30.81\n",
      "10  Female     low  70.0   66.86  22.31\n",
      "13    Male     low  76.0  274.29  25.79\n",
      "20  Female     low  68.0  120.00  30.90\n",
      "22    Male  medium  68.0   50.00  26.58\n",
      "25  Female     low  44.0    8.57  22.71\n",
      "34    Male     low  38.0   44.00  32.98\n",
      "37    Male     low  70.0   25.71  33.90\n",
      "39  Female     low  50.0   13.14  22.92\n"
     ]
    },
    {
     "name": "stderr",
     "output_type": "stream",
     "text": [
      "C:\\Users\\tkste\\AppData\\Local\\Programs\\Python\\Python310\\lib\\site-packages\\pandas\\core\\frame.py:5039: SettingWithCopyWarning: \n",
      "A value is trying to be set on a copy of a slice from a DataFrame\n",
      "\n",
      "See the caveats in the documentation: https://pandas.pydata.org/pandas-docs/stable/user_guide/indexing.html#returning-a-view-versus-a-copy\n",
      "  return super().rename(\n"
     ]
    }
   ],
   "source": [
    "# Creating a new data set so we can have the same variable name as in previous regression\n",
    "# We can't have the same variable name in the same data set because the regression wouldn't know which one to pick\n",
    "\n",
    "Ordinalbehav = subnewbehav3[[\"Gender\",\"Avedrnk2\",\"Age\",\"Activ\",\"BMI\"]]\n",
    "print(Ordinalbehav.head(10))\n",
    "\n",
    "Ordinalbehav.rename(columns={Ordinalbehav.columns[1]: \"Avedrnk\"}, inplace = True)\n",
    "print(Ordinalbehav.head(10))"
   ]
  },
  {
   "cell_type": "code",
   "execution_count": 69,
   "id": "ac044daf",
   "metadata": {},
   "outputs": [
    {
     "name": "stdout",
     "output_type": "stream",
     "text": [
      "                            OLS Regression Results                            \n",
      "==============================================================================\n",
      "Dep. Variable:                    BMI   R-squared:                       0.014\n",
      "Model:                            OLS   Adj. R-squared:                  0.014\n",
      "Method:                 Least Squares   F-statistic:                     420.2\n",
      "Date:                Wed, 19 Jan 2022   Prob (F-statistic):               0.00\n",
      "Time:                        19:38:38   Log-Likelihood:            -4.5270e+05\n",
      "No. Observations:              144455   AIC:                         9.054e+05\n",
      "Df Residuals:                  144449   BIC:                         9.055e+05\n",
      "Df Model:                           5                                         \n",
      "Covariance Type:            nonrobust                                         \n",
      "=====================================================================================\n",
      "                        coef    std err          t      P>|t|      [0.025      0.975]\n",
      "-------------------------------------------------------------------------------------\n",
      "Intercept            26.8718      0.052    512.425      0.000      26.769      26.975\n",
      "Avedrnk[T.medium]     0.4375      0.041     10.716      0.000       0.357       0.518\n",
      "Avedrnk[T.high]       0.7236      0.057     12.661      0.000       0.612       0.836\n",
      "Gender[T.Male]        1.0031      0.030     33.559      0.000       0.945       1.062\n",
      "Age                   0.0052      0.001      5.880      0.000       0.003       0.007\n",
      "Activ                -0.0035      0.000    -24.408      0.000      -0.004      -0.003\n",
      "==============================================================================\n",
      "Omnibus:                    41510.413   Durbin-Watson:                   1.968\n",
      "Prob(Omnibus):                  0.000   Jarque-Bera (JB):           169951.862\n",
      "Skew:                           1.376   Prob(JB):                         0.00\n",
      "Kurtosis:                       7.546   Cond. No.                         575.\n",
      "==============================================================================\n",
      "\n",
      "Notes:\n",
      "[1] Standard Errors assume that the covariance matrix of the errors is correctly specified.\n"
     ]
    }
   ],
   "source": [
    "# Running the grouped regression\n",
    "\n",
    "reg2 = sm.ols(formula = \"BMI ~ Avedrnk + Age + Activ + Gender\", data = Ordinalbehav).fit()\n",
    "print(reg2.summary())\n",
    "\n",
    "# Interpretation: Based on the sample data, one with a high number of drinks a day has a 0.72 higher BMI than one with a low number of drinks a day"
   ]
  },
  {
   "cell_type": "code",
   "execution_count": 72,
   "id": "d71466ae",
   "metadata": {},
   "outputs": [
    {
     "data": {
      "text/plain": [
       "[('Lagrange multiplier statistic', 1386.322671704239),\n",
       " ('p-value', 1.2659353845362331e-297),\n",
       " ('f-value', 279.9395749574047),\n",
       " ('f p-value', 4.582816022951307e-299)]"
      ]
     },
     "execution_count": 72,
     "metadata": {},
     "output_type": "execute_result"
    }
   ],
   "source": [
    "# Doing a Breusch Pagan test to see if heterskedasticty is present in the model (likley present due to residuals vs fitted)\n",
    "\n",
    "from statsmodels.compat import lzip\n",
    "import statsmodels.stats.api as sms\n",
    "\n",
    "names = ['Lagrange multiplier statistic', 'p-value',\n",
    "        'f-value', 'f p-value']\n",
    "test = sms.het_breuschpagan(reg2.resid, reg2.model.exog)\n",
    "\n",
    "lzip(names, test)\n",
    "\n",
    "# Since the p-value is less than 0.05 we have heteroskedasticity in the model"
   ]
  },
  {
   "cell_type": "code",
   "execution_count": null,
   "id": "47c2411e",
   "metadata": {},
   "outputs": [],
   "source": [
    "\n",
    "\n"
   ]
  }
 ],
 "metadata": {
  "kernelspec": {
   "display_name": "Python 3 (ipykernel)",
   "language": "python",
   "name": "python3"
  },
  "language_info": {
   "codemirror_mode": {
    "name": "ipython",
    "version": 3
   },
   "file_extension": ".py",
   "mimetype": "text/x-python",
   "name": "python",
   "nbconvert_exporter": "python",
   "pygments_lexer": "ipython3",
   "version": "3.9.7"
  }
 },
 "nbformat": 4,
 "nbformat_minor": 5
}
